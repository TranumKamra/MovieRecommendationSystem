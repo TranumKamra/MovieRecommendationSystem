{
 "cells": [
  {
   "cell_type": "markdown",
   "id": "lyLvMaM27YMr",
   "metadata": {
    "id": "lyLvMaM27YMr"
   },
   "source": [
    "#Movie-Recommendation System "
   ]
  },
  {
   "cell_type": "markdown",
   "id": "MDMdPHY95qK3",
   "metadata": {
    "id": "MDMdPHY95qK3"
   },
   "source": [
    "##Importing Standard library"
   ]
  },
  {
   "cell_type": "code",
   "execution_count": 18,
   "id": "54d652fc",
   "metadata": {
    "colab": {
     "base_uri": "https://localhost:8080/"
    },
    "id": "54d652fc",
    "outputId": "8915e036-e9c7-43ad-80f4-08bd2e41118f"
   },
   "outputs": [],
   "source": [
    "import numpy as np\n",
    "import pandas as pd\n",
    "import matplotlib.pyplot as plt\n",
    "import seaborn as sns\n",
    "%matplotlib inline\n",
    "import scipy.sparse as sp\n",
    "# !pip install matrix_factorization\n",
    "import matrix_factorization\n",
    "from math import sqrt\n",
    "from sklearn.metrics.pairwise import linear_kernel\n",
    "from sklearn.metrics import mean_squared_error\n",
    "from sklearn.neighbors import NearestNeighbors"
   ]
  },
  {
   "cell_type": "markdown",
   "id": "vFmXFZu75v_d",
   "metadata": {
    "id": "vFmXFZu75v_d"
   },
   "source": [
    "##Data-preprocessing"
   ]
  },
  {
   "cell_type": "code",
   "execution_count": 2,
   "id": "545976f6",
   "metadata": {
    "colab": {
     "base_uri": "https://localhost:8080/",
     "height": 423
    },
    "id": "545976f6",
    "outputId": "e6d90d77-8e38-490b-b175-3ecb81f13e8c"
   },
   "outputs": [
    {
     "data": {
      "text/html": [
       "<div>\n",
       "<style scoped>\n",
       "    .dataframe tbody tr th:only-of-type {\n",
       "        vertical-align: middle;\n",
       "    }\n",
       "\n",
       "    .dataframe tbody tr th {\n",
       "        vertical-align: top;\n",
       "    }\n",
       "\n",
       "    .dataframe thead th {\n",
       "        text-align: right;\n",
       "    }\n",
       "</style>\n",
       "<table border=\"1\" class=\"dataframe\">\n",
       "  <thead>\n",
       "    <tr style=\"text-align: right;\">\n",
       "      <th></th>\n",
       "      <th>userId</th>\n",
       "      <th>movieId</th>\n",
       "      <th>rating</th>\n",
       "    </tr>\n",
       "  </thead>\n",
       "  <tbody>\n",
       "    <tr>\n",
       "      <th>0</th>\n",
       "      <td>1</td>\n",
       "      <td>169</td>\n",
       "      <td>2.5</td>\n",
       "    </tr>\n",
       "    <tr>\n",
       "      <th>1</th>\n",
       "      <td>1</td>\n",
       "      <td>2471</td>\n",
       "      <td>3.0</td>\n",
       "    </tr>\n",
       "    <tr>\n",
       "      <th>2</th>\n",
       "      <td>1</td>\n",
       "      <td>48516</td>\n",
       "      <td>5.0</td>\n",
       "    </tr>\n",
       "    <tr>\n",
       "      <th>3</th>\n",
       "      <td>2</td>\n",
       "      <td>2571</td>\n",
       "      <td>3.5</td>\n",
       "    </tr>\n",
       "    <tr>\n",
       "      <th>4</th>\n",
       "      <td>2</td>\n",
       "      <td>109487</td>\n",
       "      <td>4.0</td>\n",
       "    </tr>\n",
       "    <tr>\n",
       "      <th>...</th>\n",
       "      <td>...</td>\n",
       "      <td>...</td>\n",
       "      <td>...</td>\n",
       "    </tr>\n",
       "    <tr>\n",
       "      <th>22884372</th>\n",
       "      <td>247753</td>\n",
       "      <td>49530</td>\n",
       "      <td>5.0</td>\n",
       "    </tr>\n",
       "    <tr>\n",
       "      <th>22884373</th>\n",
       "      <td>247753</td>\n",
       "      <td>69481</td>\n",
       "      <td>3.0</td>\n",
       "    </tr>\n",
       "    <tr>\n",
       "      <th>22884374</th>\n",
       "      <td>247753</td>\n",
       "      <td>74458</td>\n",
       "      <td>4.0</td>\n",
       "    </tr>\n",
       "    <tr>\n",
       "      <th>22884375</th>\n",
       "      <td>247753</td>\n",
       "      <td>76093</td>\n",
       "      <td>5.0</td>\n",
       "    </tr>\n",
       "    <tr>\n",
       "      <th>22884376</th>\n",
       "      <td>247753</td>\n",
       "      <td>130636</td>\n",
       "      <td>0.5</td>\n",
       "    </tr>\n",
       "  </tbody>\n",
       "</table>\n",
       "<p>22884377 rows × 3 columns</p>\n",
       "</div>"
      ],
      "text/plain": [
       "          userId  movieId  rating\n",
       "0              1      169     2.5\n",
       "1              1     2471     3.0\n",
       "2              1    48516     5.0\n",
       "3              2     2571     3.5\n",
       "4              2   109487     4.0\n",
       "...          ...      ...     ...\n",
       "22884372  247753    49530     5.0\n",
       "22884373  247753    69481     3.0\n",
       "22884374  247753    74458     4.0\n",
       "22884375  247753    76093     5.0\n",
       "22884376  247753   130636     0.5\n",
       "\n",
       "[22884377 rows x 3 columns]"
      ]
     },
     "execution_count": 2,
     "metadata": {},
     "output_type": "execute_result"
    }
   ],
   "source": [
    "rating=pd.read_csv(\"C:/Users/samya/Downloads/archive/ratings.csv\")\n",
    "rating=rating.drop('timestamp',axis=1)\n",
    "rating"
   ]
  },
  {
   "cell_type": "code",
   "execution_count": 3,
   "id": "4873cc8a",
   "metadata": {
    "colab": {
     "base_uri": "https://localhost:8080/",
     "height": 423
    },
    "id": "4873cc8a",
    "outputId": "af018954-f7ab-44a9-a062-bfe58108c40d"
   },
   "outputs": [
    {
     "data": {
      "text/html": [
       "<div>\n",
       "<style scoped>\n",
       "    .dataframe tbody tr th:only-of-type {\n",
       "        vertical-align: middle;\n",
       "    }\n",
       "\n",
       "    .dataframe tbody tr th {\n",
       "        vertical-align: top;\n",
       "    }\n",
       "\n",
       "    .dataframe thead th {\n",
       "        text-align: right;\n",
       "    }\n",
       "</style>\n",
       "<table border=\"1\" class=\"dataframe\">\n",
       "  <thead>\n",
       "    <tr style=\"text-align: right;\">\n",
       "      <th></th>\n",
       "      <th>movieId</th>\n",
       "      <th>title</th>\n",
       "      <th>genres</th>\n",
       "    </tr>\n",
       "  </thead>\n",
       "  <tbody>\n",
       "    <tr>\n",
       "      <th>0</th>\n",
       "      <td>1</td>\n",
       "      <td>Toy Story (1995)</td>\n",
       "      <td>Adventure|Animation|Children|Comedy|Fantasy</td>\n",
       "    </tr>\n",
       "    <tr>\n",
       "      <th>1</th>\n",
       "      <td>2</td>\n",
       "      <td>Jumanji (1995)</td>\n",
       "      <td>Adventure|Children|Fantasy</td>\n",
       "    </tr>\n",
       "    <tr>\n",
       "      <th>2</th>\n",
       "      <td>3</td>\n",
       "      <td>Grumpier Old Men (1995)</td>\n",
       "      <td>Comedy|Romance</td>\n",
       "    </tr>\n",
       "    <tr>\n",
       "      <th>3</th>\n",
       "      <td>4</td>\n",
       "      <td>Waiting to Exhale (1995)</td>\n",
       "      <td>Comedy|Drama|Romance</td>\n",
       "    </tr>\n",
       "    <tr>\n",
       "      <th>4</th>\n",
       "      <td>5</td>\n",
       "      <td>Father of the Bride Part II (1995)</td>\n",
       "      <td>Comedy</td>\n",
       "    </tr>\n",
       "    <tr>\n",
       "      <th>...</th>\n",
       "      <td>...</td>\n",
       "      <td>...</td>\n",
       "      <td>...</td>\n",
       "    </tr>\n",
       "    <tr>\n",
       "      <th>34203</th>\n",
       "      <td>151697</td>\n",
       "      <td>Grand Slam (1967)</td>\n",
       "      <td>Thriller</td>\n",
       "    </tr>\n",
       "    <tr>\n",
       "      <th>34204</th>\n",
       "      <td>151701</td>\n",
       "      <td>Bloodmoney (2010)</td>\n",
       "      <td>(no genres listed)</td>\n",
       "    </tr>\n",
       "    <tr>\n",
       "      <th>34205</th>\n",
       "      <td>151703</td>\n",
       "      <td>The Butterfly Circus (2009)</td>\n",
       "      <td>Drama</td>\n",
       "    </tr>\n",
       "    <tr>\n",
       "      <th>34206</th>\n",
       "      <td>151709</td>\n",
       "      <td>Zero (2015)</td>\n",
       "      <td>Drama|Sci-Fi</td>\n",
       "    </tr>\n",
       "    <tr>\n",
       "      <th>34207</th>\n",
       "      <td>151711</td>\n",
       "      <td>The 2000 Year Old Man (1975)</td>\n",
       "      <td>(no genres listed)</td>\n",
       "    </tr>\n",
       "  </tbody>\n",
       "</table>\n",
       "<p>34208 rows × 3 columns</p>\n",
       "</div>"
      ],
      "text/plain": [
       "       movieId                               title  \\\n",
       "0            1                    Toy Story (1995)   \n",
       "1            2                      Jumanji (1995)   \n",
       "2            3             Grumpier Old Men (1995)   \n",
       "3            4            Waiting to Exhale (1995)   \n",
       "4            5  Father of the Bride Part II (1995)   \n",
       "...        ...                                 ...   \n",
       "34203   151697                   Grand Slam (1967)   \n",
       "34204   151701                   Bloodmoney (2010)   \n",
       "34205   151703         The Butterfly Circus (2009)   \n",
       "34206   151709                         Zero (2015)   \n",
       "34207   151711        The 2000 Year Old Man (1975)   \n",
       "\n",
       "                                            genres  \n",
       "0      Adventure|Animation|Children|Comedy|Fantasy  \n",
       "1                       Adventure|Children|Fantasy  \n",
       "2                                   Comedy|Romance  \n",
       "3                             Comedy|Drama|Romance  \n",
       "4                                           Comedy  \n",
       "...                                            ...  \n",
       "34203                                     Thriller  \n",
       "34204                           (no genres listed)  \n",
       "34205                                        Drama  \n",
       "34206                                 Drama|Sci-Fi  \n",
       "34207                           (no genres listed)  \n",
       "\n",
       "[34208 rows x 3 columns]"
      ]
     },
     "execution_count": 3,
     "metadata": {},
     "output_type": "execute_result"
    }
   ],
   "source": [
    "movies=pd.read_csv(\"C:/Users/samya/Downloads/archive/movies.csv\")\n",
    "movies"
   ]
  },
  {
   "cell_type": "code",
   "execution_count": 4,
   "id": "2f51dc2b",
   "metadata": {
    "colab": {
     "base_uri": "https://localhost:8080/",
     "height": 423
    },
    "id": "2f51dc2b",
    "outputId": "74210527-0c47-4d4f-b008-8ec143d95b53"
   },
   "outputs": [
    {
     "data": {
      "text/html": [
       "<div>\n",
       "<style scoped>\n",
       "    .dataframe tbody tr th:only-of-type {\n",
       "        vertical-align: middle;\n",
       "    }\n",
       "\n",
       "    .dataframe tbody tr th {\n",
       "        vertical-align: top;\n",
       "    }\n",
       "\n",
       "    .dataframe thead th {\n",
       "        text-align: right;\n",
       "    }\n",
       "</style>\n",
       "<table border=\"1\" class=\"dataframe\">\n",
       "  <thead>\n",
       "    <tr style=\"text-align: right;\">\n",
       "      <th></th>\n",
       "      <th>userId</th>\n",
       "      <th>movieId</th>\n",
       "      <th>tag</th>\n",
       "    </tr>\n",
       "  </thead>\n",
       "  <tbody>\n",
       "    <tr>\n",
       "      <th>0</th>\n",
       "      <td>19</td>\n",
       "      <td>2324</td>\n",
       "      <td>bittersweet</td>\n",
       "    </tr>\n",
       "    <tr>\n",
       "      <th>1</th>\n",
       "      <td>19</td>\n",
       "      <td>2324</td>\n",
       "      <td>holocaust</td>\n",
       "    </tr>\n",
       "    <tr>\n",
       "      <th>2</th>\n",
       "      <td>19</td>\n",
       "      <td>2324</td>\n",
       "      <td>World War II</td>\n",
       "    </tr>\n",
       "    <tr>\n",
       "      <th>3</th>\n",
       "      <td>23</td>\n",
       "      <td>7075</td>\n",
       "      <td>hilarious</td>\n",
       "    </tr>\n",
       "    <tr>\n",
       "      <th>4</th>\n",
       "      <td>23</td>\n",
       "      <td>7075</td>\n",
       "      <td>Underrated</td>\n",
       "    </tr>\n",
       "    <tr>\n",
       "      <th>...</th>\n",
       "      <td>...</td>\n",
       "      <td>...</td>\n",
       "      <td>...</td>\n",
       "    </tr>\n",
       "    <tr>\n",
       "      <th>586989</th>\n",
       "      <td>247751</td>\n",
       "      <td>96655</td>\n",
       "      <td>future</td>\n",
       "    </tr>\n",
       "    <tr>\n",
       "      <th>586990</th>\n",
       "      <td>247751</td>\n",
       "      <td>96655</td>\n",
       "      <td>robots</td>\n",
       "    </tr>\n",
       "    <tr>\n",
       "      <th>586991</th>\n",
       "      <td>247753</td>\n",
       "      <td>356</td>\n",
       "      <td>classic</td>\n",
       "    </tr>\n",
       "    <tr>\n",
       "      <th>586992</th>\n",
       "      <td>247753</td>\n",
       "      <td>356</td>\n",
       "      <td>oscar (best supporting actor)</td>\n",
       "    </tr>\n",
       "    <tr>\n",
       "      <th>586993</th>\n",
       "      <td>247753</td>\n",
       "      <td>356</td>\n",
       "      <td>social drama</td>\n",
       "    </tr>\n",
       "  </tbody>\n",
       "</table>\n",
       "<p>586994 rows × 3 columns</p>\n",
       "</div>"
      ],
      "text/plain": [
       "        userId  movieId                            tag\n",
       "0           19     2324                    bittersweet\n",
       "1           19     2324                      holocaust\n",
       "2           19     2324                   World War II\n",
       "3           23     7075                      hilarious\n",
       "4           23     7075                     Underrated\n",
       "...        ...      ...                            ...\n",
       "586989  247751    96655                         future\n",
       "586990  247751    96655                         robots\n",
       "586991  247753      356                        classic\n",
       "586992  247753      356  oscar (best supporting actor)\n",
       "586993  247753      356                   social drama\n",
       "\n",
       "[586994 rows x 3 columns]"
      ]
     },
     "execution_count": 4,
     "metadata": {},
     "output_type": "execute_result"
    }
   ],
   "source": [
    "tags=pd.read_csv(\"C:/Users/samya/Downloads/archive/tags.csv\")\n",
    "tags=tags.drop('timestamp',axis=1)\n",
    "tags"
   ]
  },
  {
   "cell_type": "code",
   "execution_count": 5,
   "id": "079eeae8",
   "metadata": {
    "id": "079eeae8"
   },
   "outputs": [],
   "source": [
    "# Checking if the user has rated the same movie twice, in that case we just take max of them\n",
    "ratings_df = rating.groupby(['userId','movieId']).aggregate(np.max)\n"
   ]
  },
  {
   "cell_type": "code",
   "execution_count": 6,
   "id": "25b51e74",
   "metadata": {
    "colab": {
     "base_uri": "https://localhost:8080/"
    },
    "id": "25b51e74",
    "outputId": "fd1d203b-a1a2-4fe3-bdaf-bf384ef0273e"
   },
   "outputs": [
    {
     "data": {
      "text/plain": [
       "(22884377, 1)"
      ]
     },
     "execution_count": 6,
     "metadata": {},
     "output_type": "execute_result"
    }
   ],
   "source": [
    "ratings_df.shape"
   ]
  },
  {
   "cell_type": "code",
   "execution_count": 7,
   "id": "a3edf408",
   "metadata": {
    "colab": {
     "base_uri": "https://localhost:8080/",
     "height": 237
    },
    "id": "a3edf408",
    "outputId": "190fa345-979b-4c3b-9b67-56f5fa158149"
   },
   "outputs": [
    {
     "data": {
      "text/html": [
       "<div>\n",
       "<style scoped>\n",
       "    .dataframe tbody tr th:only-of-type {\n",
       "        vertical-align: middle;\n",
       "    }\n",
       "\n",
       "    .dataframe tbody tr th {\n",
       "        vertical-align: top;\n",
       "    }\n",
       "\n",
       "    .dataframe thead th {\n",
       "        text-align: right;\n",
       "    }\n",
       "</style>\n",
       "<table border=\"1\" class=\"dataframe\">\n",
       "  <thead>\n",
       "    <tr style=\"text-align: right;\">\n",
       "      <th></th>\n",
       "      <th></th>\n",
       "      <th>rating</th>\n",
       "    </tr>\n",
       "    <tr>\n",
       "      <th>userId</th>\n",
       "      <th>movieId</th>\n",
       "      <th></th>\n",
       "    </tr>\n",
       "  </thead>\n",
       "  <tbody>\n",
       "    <tr>\n",
       "      <th rowspan=\"3\" valign=\"top\">1</th>\n",
       "      <th>169</th>\n",
       "      <td>2.5</td>\n",
       "    </tr>\n",
       "    <tr>\n",
       "      <th>2471</th>\n",
       "      <td>3.0</td>\n",
       "    </tr>\n",
       "    <tr>\n",
       "      <th>48516</th>\n",
       "      <td>5.0</td>\n",
       "    </tr>\n",
       "    <tr>\n",
       "      <th rowspan=\"2\" valign=\"top\">2</th>\n",
       "      <th>2571</th>\n",
       "      <td>3.5</td>\n",
       "    </tr>\n",
       "    <tr>\n",
       "      <th>109487</th>\n",
       "      <td>4.0</td>\n",
       "    </tr>\n",
       "  </tbody>\n",
       "</table>\n",
       "</div>"
      ],
      "text/plain": [
       "                rating\n",
       "userId movieId        \n",
       "1      169         2.5\n",
       "       2471        3.0\n",
       "       48516       5.0\n",
       "2      2571        3.5\n",
       "       109487      4.0"
      ]
     },
     "execution_count": 7,
     "metadata": {},
     "output_type": "execute_result"
    }
   ],
   "source": [
    "ratings_df.head()"
   ]
  },
  {
   "cell_type": "markdown",
   "id": "Mz1yo8zK56Y4",
   "metadata": {
    "id": "Mz1yo8zK56Y4"
   },
   "source": [
    "##Genre Based Movie classification method"
   ]
  },
  {
   "cell_type": "code",
   "execution_count": 8,
   "id": "726c6cf3",
   "metadata": {
    "colab": {
     "base_uri": "https://localhost:8080/"
    },
    "id": "726c6cf3",
    "outputId": "19b7e54f-bd6b-4d5f-ca56-ebb6c183453b"
   },
   "outputs": [
    {
     "name": "stdout",
     "output_type": "stream",
     "text": [
      "The number of unique users are 247753\n",
      "The number of unique movies are 33670\n",
      "0.997\n"
     ]
    }
   ],
   "source": [
    "# Counting no of unique users and movies\n",
    "n_users=len(rating['userId'].unique())\n",
    "n_movies=len(rating['movieId'].unique())\n",
    "print(f'The number of unique users are {n_users}')\n",
    "print(f'The number of unique movies are {n_movies}')\n",
    "\n",
    "#Calculating the sparsity\n",
    "sparsity = round(1.0 - len(rating)/(1.0*(n_movies*n_users)),3)\n",
    "print(sparsity)"
   ]
  },
  {
   "cell_type": "code",
   "execution_count": 9,
   "id": "6a4f0225",
   "metadata": {
    "colab": {
     "base_uri": "https://localhost:8080/"
    },
    "id": "6a4f0225",
    "outputId": "e7e7d635-af07-4466-8174-65a8ee55f8dc"
   },
   "outputs": [
    {
     "data": {
      "text/plain": [
       "0    Adventure|Animation|Children|Comedy|Fantasy\n",
       "1                     Adventure|Children|Fantasy\n",
       "2                                 Comedy|Romance\n",
       "3                           Comedy|Drama|Romance\n",
       "4                                         Comedy\n",
       "Name: genres, dtype: object"
      ]
     },
     "execution_count": 9,
     "metadata": {},
     "output_type": "execute_result"
    }
   ],
   "source": [
    "genre=movies[\"genres\"]\n",
    "genre.head()"
   ]
  },
  {
   "cell_type": "code",
   "execution_count": 10,
   "id": "c62003c3",
   "metadata": {
    "colab": {
     "base_uri": "https://localhost:8080/"
    },
    "id": "c62003c3",
    "outputId": "c0881fa6-885f-4f20-fdf2-eef8e078fdc2"
   },
   "outputs": [
    {
     "name": "stdout",
     "output_type": "stream",
     "text": [
      "['Comedy', 'War', 'Drama', 'Crime', 'Musical', 'Mystery', 'Children', 'Western', 'Action', 'IMAX', 'Horror', 'Romance', 'Documentary', 'Animation', 'Adventure', 'Fantasy', '(no genres listed)', 'Thriller', 'Film-Noir', 'Sci-Fi']\n"
     ]
    }
   ],
   "source": [
    "genre_list = \"\"\n",
    "for index,row in movies.iterrows():\n",
    "        genre_list += row.genres + \"|\"\n",
    "#split the string into a list of values\n",
    "genre_list_split = genre_list.split('|')\n",
    "#de-duplicate values\n",
    "new_list = list(set(genre_list_split))\n",
    "#remove the value that is blank\n",
    "new_list.remove('')\n",
    "#inspect list of genres\n",
    "print(new_list)"
   ]
  },
  {
   "cell_type": "code",
   "execution_count": 11,
   "id": "bce1d89b",
   "metadata": {
    "colab": {
     "base_uri": "https://localhost:8080/"
    },
    "id": "bce1d89b",
    "outputId": "77dd70e4-7661-41ee-ade8-2e7b489fd7d7"
   },
   "outputs": [
    {
     "name": "stdout",
     "output_type": "stream",
     "text": [
      "The number of genres are 20\n"
     ]
    }
   ],
   "source": [
    "print(f'The number of genres are {len(new_list)}')"
   ]
  },
  {
   "cell_type": "code",
   "execution_count": 12,
   "id": "73c27124",
   "metadata": {
    "id": "73c27124"
   },
   "outputs": [],
   "source": [
    "#Enriching the movies dataset by adding the various genres columns.\n",
    "movies_genres = movies.copy()\n",
    "\n",
    "for genre in new_list :\n",
    "    movies_genres[genre] = movies_genres.apply(lambda _:int(genre in _.genres), axis = 1)\n",
    "# movies_genres=movies_genres.drop(\"genres\",axis=1)"
   ]
  },
  {
   "cell_type": "code",
   "execution_count": 13,
   "id": "113c8b55",
   "metadata": {
    "colab": {
     "base_uri": "https://localhost:8080/",
     "height": 507
    },
    "id": "113c8b55",
    "outputId": "d20efe3b-3e30-4ef9-8f58-98c20fc6b828"
   },
   "outputs": [
    {
     "data": {
      "text/html": [
       "<div>\n",
       "<style scoped>\n",
       "    .dataframe tbody tr th:only-of-type {\n",
       "        vertical-align: middle;\n",
       "    }\n",
       "\n",
       "    .dataframe tbody tr th {\n",
       "        vertical-align: top;\n",
       "    }\n",
       "\n",
       "    .dataframe thead th {\n",
       "        text-align: right;\n",
       "    }\n",
       "</style>\n",
       "<table border=\"1\" class=\"dataframe\">\n",
       "  <thead>\n",
       "    <tr style=\"text-align: right;\">\n",
       "      <th></th>\n",
       "      <th>movieId</th>\n",
       "      <th>title</th>\n",
       "      <th>genres</th>\n",
       "      <th>Comedy</th>\n",
       "      <th>War</th>\n",
       "      <th>Drama</th>\n",
       "      <th>Crime</th>\n",
       "      <th>Musical</th>\n",
       "      <th>Mystery</th>\n",
       "      <th>Children</th>\n",
       "      <th>...</th>\n",
       "      <th>Horror</th>\n",
       "      <th>Romance</th>\n",
       "      <th>Documentary</th>\n",
       "      <th>Animation</th>\n",
       "      <th>Adventure</th>\n",
       "      <th>Fantasy</th>\n",
       "      <th>(no genres listed)</th>\n",
       "      <th>Thriller</th>\n",
       "      <th>Film-Noir</th>\n",
       "      <th>Sci-Fi</th>\n",
       "    </tr>\n",
       "  </thead>\n",
       "  <tbody>\n",
       "    <tr>\n",
       "      <th>0</th>\n",
       "      <td>1</td>\n",
       "      <td>Toy Story (1995)</td>\n",
       "      <td>Adventure|Animation|Children|Comedy|Fantasy</td>\n",
       "      <td>1</td>\n",
       "      <td>0</td>\n",
       "      <td>0</td>\n",
       "      <td>0</td>\n",
       "      <td>0</td>\n",
       "      <td>0</td>\n",
       "      <td>1</td>\n",
       "      <td>...</td>\n",
       "      <td>0</td>\n",
       "      <td>0</td>\n",
       "      <td>0</td>\n",
       "      <td>1</td>\n",
       "      <td>1</td>\n",
       "      <td>1</td>\n",
       "      <td>0</td>\n",
       "      <td>0</td>\n",
       "      <td>0</td>\n",
       "      <td>0</td>\n",
       "    </tr>\n",
       "    <tr>\n",
       "      <th>1</th>\n",
       "      <td>2</td>\n",
       "      <td>Jumanji (1995)</td>\n",
       "      <td>Adventure|Children|Fantasy</td>\n",
       "      <td>0</td>\n",
       "      <td>0</td>\n",
       "      <td>0</td>\n",
       "      <td>0</td>\n",
       "      <td>0</td>\n",
       "      <td>0</td>\n",
       "      <td>1</td>\n",
       "      <td>...</td>\n",
       "      <td>0</td>\n",
       "      <td>0</td>\n",
       "      <td>0</td>\n",
       "      <td>0</td>\n",
       "      <td>1</td>\n",
       "      <td>1</td>\n",
       "      <td>0</td>\n",
       "      <td>0</td>\n",
       "      <td>0</td>\n",
       "      <td>0</td>\n",
       "    </tr>\n",
       "    <tr>\n",
       "      <th>2</th>\n",
       "      <td>3</td>\n",
       "      <td>Grumpier Old Men (1995)</td>\n",
       "      <td>Comedy|Romance</td>\n",
       "      <td>1</td>\n",
       "      <td>0</td>\n",
       "      <td>0</td>\n",
       "      <td>0</td>\n",
       "      <td>0</td>\n",
       "      <td>0</td>\n",
       "      <td>0</td>\n",
       "      <td>...</td>\n",
       "      <td>0</td>\n",
       "      <td>1</td>\n",
       "      <td>0</td>\n",
       "      <td>0</td>\n",
       "      <td>0</td>\n",
       "      <td>0</td>\n",
       "      <td>0</td>\n",
       "      <td>0</td>\n",
       "      <td>0</td>\n",
       "      <td>0</td>\n",
       "    </tr>\n",
       "    <tr>\n",
       "      <th>3</th>\n",
       "      <td>4</td>\n",
       "      <td>Waiting to Exhale (1995)</td>\n",
       "      <td>Comedy|Drama|Romance</td>\n",
       "      <td>1</td>\n",
       "      <td>0</td>\n",
       "      <td>1</td>\n",
       "      <td>0</td>\n",
       "      <td>0</td>\n",
       "      <td>0</td>\n",
       "      <td>0</td>\n",
       "      <td>...</td>\n",
       "      <td>0</td>\n",
       "      <td>1</td>\n",
       "      <td>0</td>\n",
       "      <td>0</td>\n",
       "      <td>0</td>\n",
       "      <td>0</td>\n",
       "      <td>0</td>\n",
       "      <td>0</td>\n",
       "      <td>0</td>\n",
       "      <td>0</td>\n",
       "    </tr>\n",
       "    <tr>\n",
       "      <th>4</th>\n",
       "      <td>5</td>\n",
       "      <td>Father of the Bride Part II (1995)</td>\n",
       "      <td>Comedy</td>\n",
       "      <td>1</td>\n",
       "      <td>0</td>\n",
       "      <td>0</td>\n",
       "      <td>0</td>\n",
       "      <td>0</td>\n",
       "      <td>0</td>\n",
       "      <td>0</td>\n",
       "      <td>...</td>\n",
       "      <td>0</td>\n",
       "      <td>0</td>\n",
       "      <td>0</td>\n",
       "      <td>0</td>\n",
       "      <td>0</td>\n",
       "      <td>0</td>\n",
       "      <td>0</td>\n",
       "      <td>0</td>\n",
       "      <td>0</td>\n",
       "      <td>0</td>\n",
       "    </tr>\n",
       "  </tbody>\n",
       "</table>\n",
       "<p>5 rows × 23 columns</p>\n",
       "</div>"
      ],
      "text/plain": [
       "   movieId                               title  \\\n",
       "0        1                    Toy Story (1995)   \n",
       "1        2                      Jumanji (1995)   \n",
       "2        3             Grumpier Old Men (1995)   \n",
       "3        4            Waiting to Exhale (1995)   \n",
       "4        5  Father of the Bride Part II (1995)   \n",
       "\n",
       "                                        genres  Comedy  War  Drama  Crime  \\\n",
       "0  Adventure|Animation|Children|Comedy|Fantasy       1    0      0      0   \n",
       "1                   Adventure|Children|Fantasy       0    0      0      0   \n",
       "2                               Comedy|Romance       1    0      0      0   \n",
       "3                         Comedy|Drama|Romance       1    0      1      0   \n",
       "4                                       Comedy       1    0      0      0   \n",
       "\n",
       "   Musical  Mystery  Children  ...  Horror  Romance  Documentary  Animation  \\\n",
       "0        0        0         1  ...       0        0            0          1   \n",
       "1        0        0         1  ...       0        0            0          0   \n",
       "2        0        0         0  ...       0        1            0          0   \n",
       "3        0        0         0  ...       0        1            0          0   \n",
       "4        0        0         0  ...       0        0            0          0   \n",
       "\n",
       "   Adventure  Fantasy  (no genres listed)  Thriller  Film-Noir  Sci-Fi  \n",
       "0          1        1                   0         0          0       0  \n",
       "1          1        1                   0         0          0       0  \n",
       "2          0        0                   0         0          0       0  \n",
       "3          0        0                   0         0          0       0  \n",
       "4          0        0                   0         0          0       0  \n",
       "\n",
       "[5 rows x 23 columns]"
      ]
     },
     "execution_count": 13,
     "metadata": {},
     "output_type": "execute_result"
    }
   ],
   "source": [
    "movies_genres.head()"
   ]
  },
  {
   "cell_type": "code",
   "execution_count": 14,
   "id": "adf67ada",
   "metadata": {
    "colab": {
     "base_uri": "https://localhost:8080/",
     "height": 237
    },
    "id": "adf67ada",
    "outputId": "5333ff7d-ce97-4580-d2a9-3d1c2024da22"
   },
   "outputs": [
    {
     "data": {
      "text/html": [
       "<div>\n",
       "<style scoped>\n",
       "    .dataframe tbody tr th:only-of-type {\n",
       "        vertical-align: middle;\n",
       "    }\n",
       "\n",
       "    .dataframe tbody tr th {\n",
       "        vertical-align: top;\n",
       "    }\n",
       "\n",
       "    .dataframe thead th {\n",
       "        text-align: right;\n",
       "    }\n",
       "</style>\n",
       "<table border=\"1\" class=\"dataframe\">\n",
       "  <thead>\n",
       "    <tr style=\"text-align: right;\">\n",
       "      <th></th>\n",
       "      <th>mean</th>\n",
       "      <th>count</th>\n",
       "    </tr>\n",
       "    <tr>\n",
       "      <th>movieId</th>\n",
       "      <th></th>\n",
       "      <th></th>\n",
       "    </tr>\n",
       "  </thead>\n",
       "  <tbody>\n",
       "    <tr>\n",
       "      <th>1</th>\n",
       "      <td>3.894802</td>\n",
       "      <td>60424</td>\n",
       "    </tr>\n",
       "    <tr>\n",
       "      <th>2</th>\n",
       "      <td>3.221086</td>\n",
       "      <td>23950</td>\n",
       "    </tr>\n",
       "    <tr>\n",
       "      <th>3</th>\n",
       "      <td>3.180094</td>\n",
       "      <td>15267</td>\n",
       "    </tr>\n",
       "    <tr>\n",
       "      <th>4</th>\n",
       "      <td>2.879727</td>\n",
       "      <td>2935</td>\n",
       "    </tr>\n",
       "    <tr>\n",
       "      <th>5</th>\n",
       "      <td>3.080811</td>\n",
       "      <td>14769</td>\n",
       "    </tr>\n",
       "  </tbody>\n",
       "</table>\n",
       "</div>"
      ],
      "text/plain": [
       "             mean  count\n",
       "movieId                 \n",
       "1        3.894802  60424\n",
       "2        3.221086  23950\n",
       "3        3.180094  15267\n",
       "4        2.879727   2935\n",
       "5        3.080811  14769"
      ]
     },
     "execution_count": 14,
     "metadata": {},
     "output_type": "execute_result"
    }
   ],
   "source": [
    "# Finding the average rating for movie and the number of ratings for each movie\n",
    "avg_movie_rating = pd.DataFrame(rating.groupby('movieId')['rating'].agg(['mean','count']))\n",
    "# avg_movie_rating['movieId']= avg_movie_rating.index\n",
    "avg_movie_rating.head()"
   ]
  },
  {
   "cell_type": "code",
   "execution_count": 15,
   "id": "dbe2449f",
   "metadata": {},
   "outputs": [
    {
     "name": "stdout",
     "output_type": "stream",
     "text": [
      "<class 'pandas.core.series.Series'>\n"
     ]
    },
    {
     "data": {
      "text/plain": [
       "userId\n",
       "1      3\n",
       "2      4\n",
       "3      4\n",
       "4    183\n",
       "5     25\n",
       "Name: rating, dtype: int64"
      ]
     },
     "execution_count": 15,
     "metadata": {},
     "output_type": "execute_result"
    }
   ],
   "source": [
    "no_user_voted = rating.groupby('movieId')['rating'].agg('count')\n",
    "no_movies_voted = rating.groupby('userId')['rating'].agg('count')\n",
    "print(type(no_user_voted[:5]))\n",
    "no_movies_voted[:5]\n"
   ]
  },
  {
   "cell_type": "code",
   "execution_count": 19,
   "id": "7a128985",
   "metadata": {},
   "outputs": [
    {
     "data": {
      "image/png": "[encoded data removed]",
      "text/plain": [
       "<Figure size 1600x400 with 1 Axes>"
      ]
     },
     "metadata": {},
     "output_type": "display_data"
    }
   ],
   "source": [
    "f,ax = plt.subplots(1,1,figsize=(16,4))\n",
    "# ratings['rating'].plot(kind='hist')\n",
    "plt.scatter(no_user_voted.index,no_user_voted,color='orange')\n",
    "plt.xlabel('MovieId')\n",
    "plt.ylabel('No. of users voted')\n",
    "plt.show()"
   ]
  },
  {
   "cell_type": "code",
   "execution_count": 20,
   "id": "b1c4fd9c",
   "metadata": {},
   "outputs": [
    {
     "data": {
      "image/png": "[encoded data removed]",
      "text/plain": [
       "<Figure size 1600x400 with 1 Axes>"
      ]
     },
     "metadata": {},
     "output_type": "display_data"
    }
   ],
   "source": [
    "f,ax = plt.subplots(1,1,figsize=(16,4))\n",
    "# ratings['rating'].plot(kind='hist')\n",
    "plt.scatter(no_movies_voted.index,no_movies_voted,color='orange')\n",
    "plt.xlabel('User')\n",
    "plt.ylabel('No. of movies ')\n",
    "plt.show()"
   ]
  },
  {
   "cell_type": "code",
   "execution_count": 21,
   "id": "918a8cc7",
   "metadata": {},
   "outputs": [],
   "source": [
    "# avg_movie_rating.drop(\"movieId\",axis=1)"
   ]
  },
  {
   "cell_type": "code",
   "execution_count": 22,
   "id": "5011ad08",
   "metadata": {
    "colab": {
     "base_uri": "https://localhost:8080/"
    },
    "id": "5011ad08",
    "outputId": "17eab395-604d-4b08-8b0c-55b7f909b5e4"
   },
   "outputs": [
    {
     "data": {
      "text/plain": [
       "(33670, 2)"
      ]
     },
     "execution_count": 22,
     "metadata": {},
     "output_type": "execute_result"
    }
   ],
   "source": [
    "avg_movie_rating.shape"
   ]
  },
  {
   "cell_type": "code",
   "execution_count": 23,
   "id": "02ce8982",
   "metadata": {
    "colab": {
     "base_uri": "https://localhost:8080/"
    },
    "id": "02ce8982",
    "outputId": "acb71375-c508-472c-a4d1-7605e244b5a4"
   },
   "outputs": [
    {
     "data": {
      "text/plain": [
       "43.0"
      ]
     },
     "execution_count": 23,
     "metadata": {},
     "output_type": "execute_result"
    }
   ],
   "source": [
    "#calculate the percentile count. It gives the no of ratings at least 65% of the movies have\n",
    "min_count=np.percentile(avg_movie_rating['count'],65)\n",
    "min_count"
   ]
  },
  {
   "cell_type": "code",
   "execution_count": 24,
   "id": "635f8232",
   "metadata": {
    "colab": {
     "base_uri": "https://localhost:8080/"
    },
    "id": "635f8232",
    "outputId": "60167311-2589-4522-e199-7b918b50040b"
   },
   "outputs": [
    {
     "data": {
      "text/plain": [
       "3.5260770044122243"
      ]
     },
     "execution_count": 24,
     "metadata": {},
     "output_type": "execute_result"
    }
   ],
   "source": [
    "#Get the average movie rating across all movies \n",
    "avg_rating_all=rating['rating'].mean()\n",
    "avg_rating_all"
   ]
  },
  {
   "cell_type": "code",
   "execution_count": 25,
   "id": "3832da50",
   "metadata": {
    "colab": {
     "base_uri": "https://localhost:8080/",
     "height": 237
    },
    "id": "3832da50",
    "outputId": "e22e5584-f9e5-4769-c1e3-53e150215e82"
   },
   "outputs": [
    {
     "data": {
      "text/html": [
       "<div>\n",
       "<style scoped>\n",
       "    .dataframe tbody tr th:only-of-type {\n",
       "        vertical-align: middle;\n",
       "    }\n",
       "\n",
       "    .dataframe tbody tr th {\n",
       "        vertical-align: top;\n",
       "    }\n",
       "\n",
       "    .dataframe thead th {\n",
       "        text-align: right;\n",
       "    }\n",
       "</style>\n",
       "<table border=\"1\" class=\"dataframe\">\n",
       "  <thead>\n",
       "    <tr style=\"text-align: right;\">\n",
       "      <th></th>\n",
       "      <th>mean</th>\n",
       "      <th>count</th>\n",
       "    </tr>\n",
       "    <tr>\n",
       "      <th>movieId</th>\n",
       "      <th></th>\n",
       "      <th></th>\n",
       "    </tr>\n",
       "  </thead>\n",
       "  <tbody>\n",
       "    <tr>\n",
       "      <th>1</th>\n",
       "      <td>3.894802</td>\n",
       "      <td>60424</td>\n",
       "    </tr>\n",
       "    <tr>\n",
       "      <th>2</th>\n",
       "      <td>3.221086</td>\n",
       "      <td>23950</td>\n",
       "    </tr>\n",
       "    <tr>\n",
       "      <th>3</th>\n",
       "      <td>3.180094</td>\n",
       "      <td>15267</td>\n",
       "    </tr>\n",
       "    <tr>\n",
       "      <th>4</th>\n",
       "      <td>2.879727</td>\n",
       "      <td>2935</td>\n",
       "    </tr>\n",
       "    <tr>\n",
       "      <th>5</th>\n",
       "      <td>3.080811</td>\n",
       "      <td>14769</td>\n",
       "    </tr>\n",
       "  </tbody>\n",
       "</table>\n",
       "</div>"
      ],
      "text/plain": [
       "             mean  count\n",
       "movieId                 \n",
       "1        3.894802  60424\n",
       "2        3.221086  23950\n",
       "3        3.180094  15267\n",
       "4        2.879727   2935\n",
       "5        3.080811  14769"
      ]
     },
     "execution_count": 25,
     "metadata": {},
     "output_type": "execute_result"
    }
   ],
   "source": [
    "movie_score = avg_movie_rating.loc[avg_movie_rating['count']>min_count]\n",
    "movie_score.head()"
   ]
  },
  {
   "cell_type": "code",
   "execution_count": 26,
   "id": "6dbe1e67",
   "metadata": {
    "colab": {
     "base_uri": "https://localhost:8080/"
    },
    "id": "6dbe1e67",
    "outputId": "d0dd4b4f-63f5-4cad-c7af-a4748f709d18"
   },
   "outputs": [
    {
     "data": {
      "text/plain": [
       "(11750, 2)"
      ]
     },
     "execution_count": 26,
     "metadata": {},
     "output_type": "execute_result"
    }
   ],
   "source": [
    "movie_score.shape"
   ]
  },
  {
   "cell_type": "code",
   "execution_count": 27,
   "id": "3c387ded",
   "metadata": {
    "id": "3c387ded"
   },
   "outputs": [],
   "source": [
    "#create a function for weighted rating score based off count of reviews\n",
    "def weighted_rating(x, m=min_count, C=avg_rating_all):\n",
    "    v = x['count']\n",
    "    R = x['mean']\n",
    "    # Calculation based on the IMDB formula\n",
    "    return (v/(v+m) * R) + (m/(m+v) * C)"
   ]
  },
  {
   "cell_type": "code",
   "execution_count": 28,
   "id": "11086c75",
   "metadata": {
    "colab": {
     "base_uri": "https://localhost:8080/",
     "height": 341
    },
    "id": "11086c75",
    "outputId": "7c4c6bf0-e29d-4117-dfbd-d462c4a1ea08"
   },
   "outputs": [
    {
     "name": "stderr",
     "output_type": "stream",
     "text": [
      "C:\\Users\\samya\\AppData\\Local\\Temp\\ipykernel_24220\\205697544.py:3: SettingWithCopyWarning: \n",
      "A value is trying to be set on a copy of a slice from a DataFrame.\n",
      "Try using .loc[row_indexer,col_indexer] = value instead\n",
      "\n",
      "See the caveats in the documentation: https://pandas.pydata.org/pandas-docs/stable/user_guide/indexing.html#returning-a-view-versus-a-copy\n",
      "  movie_score.loc[index, 'weighted_score'] = weighted_score\n"
     ]
    },
    {
     "data": {
      "text/html": [
       "<div>\n",
       "<style scoped>\n",
       "    .dataframe tbody tr th:only-of-type {\n",
       "        vertical-align: middle;\n",
       "    }\n",
       "\n",
       "    .dataframe tbody tr th {\n",
       "        vertical-align: top;\n",
       "    }\n",
       "\n",
       "    .dataframe thead th {\n",
       "        text-align: right;\n",
       "    }\n",
       "</style>\n",
       "<table border=\"1\" class=\"dataframe\">\n",
       "  <thead>\n",
       "    <tr style=\"text-align: right;\">\n",
       "      <th></th>\n",
       "      <th>mean</th>\n",
       "      <th>count</th>\n",
       "      <th>weighted_score</th>\n",
       "    </tr>\n",
       "    <tr>\n",
       "      <th>movieId</th>\n",
       "      <th></th>\n",
       "      <th></th>\n",
       "      <th></th>\n",
       "    </tr>\n",
       "  </thead>\n",
       "  <tbody>\n",
       "    <tr>\n",
       "      <th>1</th>\n",
       "      <td>3.894802</td>\n",
       "      <td>60424</td>\n",
       "      <td>3.894540</td>\n",
       "    </tr>\n",
       "    <tr>\n",
       "      <th>2</th>\n",
       "      <td>3.221086</td>\n",
       "      <td>23950</td>\n",
       "      <td>3.221632</td>\n",
       "    </tr>\n",
       "    <tr>\n",
       "      <th>3</th>\n",
       "      <td>3.180094</td>\n",
       "      <td>15267</td>\n",
       "      <td>3.181066</td>\n",
       "    </tr>\n",
       "    <tr>\n",
       "      <th>4</th>\n",
       "      <td>2.879727</td>\n",
       "      <td>2935</td>\n",
       "      <td>2.889060</td>\n",
       "    </tr>\n",
       "    <tr>\n",
       "      <th>5</th>\n",
       "      <td>3.080811</td>\n",
       "      <td>14769</td>\n",
       "      <td>3.082104</td>\n",
       "    </tr>\n",
       "  </tbody>\n",
       "</table>\n",
       "</div>"
      ],
      "text/plain": [
       "             mean  count  weighted_score\n",
       "movieId                                 \n",
       "1        3.894802  60424        3.894540\n",
       "2        3.221086  23950        3.221632\n",
       "3        3.180094  15267        3.181066\n",
       "4        2.879727   2935        2.889060\n",
       "5        3.080811  14769        3.082104"
      ]
     },
     "execution_count": 28,
     "metadata": {},
     "output_type": "execute_result"
    }
   ],
   "source": [
    "for index, row in movie_score.iterrows():\n",
    "    weighted_score = weighted_rating(row)\n",
    "    movie_score.loc[index, 'weighted_score'] = weighted_score\n",
    "\n",
    "movie_score.head()\n"
   ]
  },
  {
   "cell_type": "code",
   "execution_count": 29,
   "id": "77341cea",
   "metadata": {
    "colab": {
     "base_uri": "https://localhost:8080/",
     "height": 507
    },
    "id": "77341cea",
    "outputId": "c304a396-2615-4f26-a0b1-fdc95f14f645"
   },
   "outputs": [
    {
     "data": {
      "text/html": [
       "<div>\n",
       "<style scoped>\n",
       "    .dataframe tbody tr th:only-of-type {\n",
       "        vertical-align: middle;\n",
       "    }\n",
       "\n",
       "    .dataframe tbody tr th {\n",
       "        vertical-align: top;\n",
       "    }\n",
       "\n",
       "    .dataframe thead th {\n",
       "        text-align: right;\n",
       "    }\n",
       "</style>\n",
       "<table border=\"1\" class=\"dataframe\">\n",
       "  <thead>\n",
       "    <tr style=\"text-align: right;\">\n",
       "      <th></th>\n",
       "      <th>movieId</th>\n",
       "      <th>mean</th>\n",
       "      <th>count</th>\n",
       "      <th>weighted_score</th>\n",
       "      <th>title</th>\n",
       "      <th>genres</th>\n",
       "      <th>Comedy</th>\n",
       "      <th>War</th>\n",
       "      <th>Drama</th>\n",
       "      <th>Crime</th>\n",
       "      <th>...</th>\n",
       "      <th>Horror</th>\n",
       "      <th>Romance</th>\n",
       "      <th>Documentary</th>\n",
       "      <th>Animation</th>\n",
       "      <th>Adventure</th>\n",
       "      <th>Fantasy</th>\n",
       "      <th>(no genres listed)</th>\n",
       "      <th>Thriller</th>\n",
       "      <th>Film-Noir</th>\n",
       "      <th>Sci-Fi</th>\n",
       "    </tr>\n",
       "  </thead>\n",
       "  <tbody>\n",
       "    <tr>\n",
       "      <th>0</th>\n",
       "      <td>1</td>\n",
       "      <td>3.894802</td>\n",
       "      <td>60424</td>\n",
       "      <td>3.894540</td>\n",
       "      <td>Toy Story (1995)</td>\n",
       "      <td>Adventure|Animation|Children|Comedy|Fantasy</td>\n",
       "      <td>1</td>\n",
       "      <td>0</td>\n",
       "      <td>0</td>\n",
       "      <td>0</td>\n",
       "      <td>...</td>\n",
       "      <td>0</td>\n",
       "      <td>0</td>\n",
       "      <td>0</td>\n",
       "      <td>1</td>\n",
       "      <td>1</td>\n",
       "      <td>1</td>\n",
       "      <td>0</td>\n",
       "      <td>0</td>\n",
       "      <td>0</td>\n",
       "      <td>0</td>\n",
       "    </tr>\n",
       "    <tr>\n",
       "      <th>1</th>\n",
       "      <td>2</td>\n",
       "      <td>3.221086</td>\n",
       "      <td>23950</td>\n",
       "      <td>3.221632</td>\n",
       "      <td>Jumanji (1995)</td>\n",
       "      <td>Adventure|Children|Fantasy</td>\n",
       "      <td>0</td>\n",
       "      <td>0</td>\n",
       "      <td>0</td>\n",
       "      <td>0</td>\n",
       "      <td>...</td>\n",
       "      <td>0</td>\n",
       "      <td>0</td>\n",
       "      <td>0</td>\n",
       "      <td>0</td>\n",
       "      <td>1</td>\n",
       "      <td>1</td>\n",
       "      <td>0</td>\n",
       "      <td>0</td>\n",
       "      <td>0</td>\n",
       "      <td>0</td>\n",
       "    </tr>\n",
       "    <tr>\n",
       "      <th>2</th>\n",
       "      <td>3</td>\n",
       "      <td>3.180094</td>\n",
       "      <td>15267</td>\n",
       "      <td>3.181066</td>\n",
       "      <td>Grumpier Old Men (1995)</td>\n",
       "      <td>Comedy|Romance</td>\n",
       "      <td>1</td>\n",
       "      <td>0</td>\n",
       "      <td>0</td>\n",
       "      <td>0</td>\n",
       "      <td>...</td>\n",
       "      <td>0</td>\n",
       "      <td>1</td>\n",
       "      <td>0</td>\n",
       "      <td>0</td>\n",
       "      <td>0</td>\n",
       "      <td>0</td>\n",
       "      <td>0</td>\n",
       "      <td>0</td>\n",
       "      <td>0</td>\n",
       "      <td>0</td>\n",
       "    </tr>\n",
       "    <tr>\n",
       "      <th>3</th>\n",
       "      <td>4</td>\n",
       "      <td>2.879727</td>\n",
       "      <td>2935</td>\n",
       "      <td>2.889060</td>\n",
       "      <td>Waiting to Exhale (1995)</td>\n",
       "      <td>Comedy|Drama|Romance</td>\n",
       "      <td>1</td>\n",
       "      <td>0</td>\n",
       "      <td>1</td>\n",
       "      <td>0</td>\n",
       "      <td>...</td>\n",
       "      <td>0</td>\n",
       "      <td>1</td>\n",
       "      <td>0</td>\n",
       "      <td>0</td>\n",
       "      <td>0</td>\n",
       "      <td>0</td>\n",
       "      <td>0</td>\n",
       "      <td>0</td>\n",
       "      <td>0</td>\n",
       "      <td>0</td>\n",
       "    </tr>\n",
       "    <tr>\n",
       "      <th>4</th>\n",
       "      <td>5</td>\n",
       "      <td>3.080811</td>\n",
       "      <td>14769</td>\n",
       "      <td>3.082104</td>\n",
       "      <td>Father of the Bride Part II (1995)</td>\n",
       "      <td>Comedy</td>\n",
       "      <td>1</td>\n",
       "      <td>0</td>\n",
       "      <td>0</td>\n",
       "      <td>0</td>\n",
       "      <td>...</td>\n",
       "      <td>0</td>\n",
       "      <td>0</td>\n",
       "      <td>0</td>\n",
       "      <td>0</td>\n",
       "      <td>0</td>\n",
       "      <td>0</td>\n",
       "      <td>0</td>\n",
       "      <td>0</td>\n",
       "      <td>0</td>\n",
       "      <td>0</td>\n",
       "    </tr>\n",
       "  </tbody>\n",
       "</table>\n",
       "<p>5 rows × 26 columns</p>\n",
       "</div>"
      ],
      "text/plain": [
       "   movieId      mean  count  weighted_score  \\\n",
       "0        1  3.894802  60424        3.894540   \n",
       "1        2  3.221086  23950        3.221632   \n",
       "2        3  3.180094  15267        3.181066   \n",
       "3        4  2.879727   2935        2.889060   \n",
       "4        5  3.080811  14769        3.082104   \n",
       "\n",
       "                                title  \\\n",
       "0                    Toy Story (1995)   \n",
       "1                      Jumanji (1995)   \n",
       "2             Grumpier Old Men (1995)   \n",
       "3            Waiting to Exhale (1995)   \n",
       "4  Father of the Bride Part II (1995)   \n",
       "\n",
       "                                        genres  Comedy  War  Drama  Crime  \\\n",
       "0  Adventure|Animation|Children|Comedy|Fantasy       1    0      0      0   \n",
       "1                   Adventure|Children|Fantasy       0    0      0      0   \n",
       "2                               Comedy|Romance       1    0      0      0   \n",
       "3                         Comedy|Drama|Romance       1    0      1      0   \n",
       "4                                       Comedy       1    0      0      0   \n",
       "\n",
       "   ...  Horror  Romance  Documentary  Animation  Adventure  Fantasy  \\\n",
       "0  ...       0        0            0          1          1        1   \n",
       "1  ...       0        0            0          0          1        1   \n",
       "2  ...       0        1            0          0          0        0   \n",
       "3  ...       0        1            0          0          0        0   \n",
       "4  ...       0        0            0          0          0        0   \n",
       "\n",
       "   (no genres listed)  Thriller  Film-Noir  Sci-Fi  \n",
       "0                   0         0          0       0  \n",
       "1                   0         0          0       0  \n",
       "2                   0         0          0       0  \n",
       "3                   0         0          0       0  \n",
       "4                   0         0          0       0  \n",
       "\n",
       "[5 rows x 26 columns]"
      ]
     },
     "execution_count": 29,
     "metadata": {},
     "output_type": "execute_result"
    }
   ],
   "source": [
    "#join movie details to movie ratings\n",
    "movie_score = pd.merge(movie_score,movies_genres,on='movieId')\n",
    "#join movie links to movie ratings\n",
    "#movie_score = pd.merge(movie_score,links,on='movieId')\n",
    "movie_score.head()"
   ]
  },
  {
   "cell_type": "code",
   "execution_count": 427,
   "id": "ab817b2f",
   "metadata": {},
   "outputs": [
    {
     "data": {
      "text/plain": [
       "<AxesSubplot:>"
      ]
     },
     "execution_count": 427,
     "metadata": {},
     "output_type": "execute_result"
    },
    {
     "data": {
      "image/png": "[encoded data removed]",
      "text/plain": [
       "<Figure size 640x480 with 2 Axes>"
      ]
     },
     "metadata": {},
     "output_type": "display_data"
    }
   ],
   "source": [
    "# correlation between the different parameters\n",
    "tc = movie_score.corr()\n",
    " \n",
    "# plot a heatmap of the correlated data\n",
    "sns.heatmap(tc)\n"
   ]
  },
  {
   "cell_type": "code",
   "execution_count": 30,
   "id": "8b3c6175",
   "metadata": {
    "colab": {
     "base_uri": "https://localhost:8080/"
    },
    "id": "8b3c6175",
    "outputId": "d94f4fd2-5a62-4042-ade1-347d6d463299"
   },
   "outputs": [
    {
     "data": {
      "text/plain": [
       "(11750, 26)"
      ]
     },
     "execution_count": 30,
     "metadata": {},
     "output_type": "execute_result"
    }
   ],
   "source": [
    "movie_score.shape"
   ]
  },
  {
   "cell_type": "code",
   "execution_count": 31,
   "id": "874cf799",
   "metadata": {
    "colab": {
     "base_uri": "https://localhost:8080/",
     "height": 423
    },
    "id": "874cf799",
    "outputId": "24ed0427-0d22-4578-807c-09073baf3f42"
   },
   "outputs": [
    {
     "data": {
      "text/html": [
       "<div>\n",
       "<style scoped>\n",
       "    .dataframe tbody tr th:only-of-type {\n",
       "        vertical-align: middle;\n",
       "    }\n",
       "\n",
       "    .dataframe tbody tr th {\n",
       "        vertical-align: top;\n",
       "    }\n",
       "\n",
       "    .dataframe thead th {\n",
       "        text-align: right;\n",
       "    }\n",
       "</style>\n",
       "<table border=\"1\" class=\"dataframe\">\n",
       "  <thead>\n",
       "    <tr style=\"text-align: right;\">\n",
       "      <th></th>\n",
       "      <th>title</th>\n",
       "      <th>count</th>\n",
       "      <th>mean</th>\n",
       "      <th>weighted_score</th>\n",
       "      <th>genres</th>\n",
       "    </tr>\n",
       "  </thead>\n",
       "  <tbody>\n",
       "    <tr>\n",
       "      <th>307</th>\n",
       "      <td>Shawshank Redemption, The (1994)</td>\n",
       "      <td>77887</td>\n",
       "      <td>4.441710</td>\n",
       "      <td>4.441205</td>\n",
       "      <td>Crime|Drama</td>\n",
       "    </tr>\n",
       "    <tr>\n",
       "      <th>783</th>\n",
       "      <td>Godfather, The (1972)</td>\n",
       "      <td>49846</td>\n",
       "      <td>4.353639</td>\n",
       "      <td>4.352926</td>\n",
       "      <td>Crime|Drama</td>\n",
       "    </tr>\n",
       "    <tr>\n",
       "      <th>49</th>\n",
       "      <td>Usual Suspects, The (1995)</td>\n",
       "      <td>53195</td>\n",
       "      <td>4.318987</td>\n",
       "      <td>4.318346</td>\n",
       "      <td>Crime|Mystery|Thriller</td>\n",
       "    </tr>\n",
       "    <tr>\n",
       "      <th>509</th>\n",
       "      <td>Schindler's List (1993)</td>\n",
       "      <td>59857</td>\n",
       "      <td>4.290952</td>\n",
       "      <td>4.290403</td>\n",
       "      <td>Drama|War</td>\n",
       "    </tr>\n",
       "    <tr>\n",
       "      <th>1111</th>\n",
       "      <td>Godfather: Part II, The (1974)</td>\n",
       "      <td>32247</td>\n",
       "      <td>4.268878</td>\n",
       "      <td>4.267889</td>\n",
       "      <td>Crime|Drama</td>\n",
       "    </tr>\n",
       "    <tr>\n",
       "      <th>...</th>\n",
       "      <td>...</td>\n",
       "      <td>...</td>\n",
       "      <td>...</td>\n",
       "      <td>...</td>\n",
       "      <td>...</td>\n",
       "    </tr>\n",
       "    <tr>\n",
       "      <th>1615</th>\n",
       "      <td>Barney's Great Adventure (1998)</td>\n",
       "      <td>432</td>\n",
       "      <td>1.197917</td>\n",
       "      <td>1.408676</td>\n",
       "      <td>Adventure|Children</td>\n",
       "    </tr>\n",
       "    <tr>\n",
       "      <th>5828</th>\n",
       "      <td>Gigli (2003)</td>\n",
       "      <td>741</td>\n",
       "      <td>1.170715</td>\n",
       "      <td>1.299900</td>\n",
       "      <td>Comedy|Crime|Romance</td>\n",
       "    </tr>\n",
       "    <tr>\n",
       "      <th>7106</th>\n",
       "      <td>SuperBabies: Baby Geniuses 2 (2004)</td>\n",
       "      <td>219</td>\n",
       "      <td>0.851598</td>\n",
       "      <td>1.290539</td>\n",
       "      <td>Comedy</td>\n",
       "    </tr>\n",
       "    <tr>\n",
       "      <th>4333</th>\n",
       "      <td>Glitter (2001)</td>\n",
       "      <td>713</td>\n",
       "      <td>1.135344</td>\n",
       "      <td>1.271324</td>\n",
       "      <td>Drama|Musical|Romance</td>\n",
       "    </tr>\n",
       "    <tr>\n",
       "      <th>5746</th>\n",
       "      <td>From Justin to Kelly (2003)</td>\n",
       "      <td>448</td>\n",
       "      <td>0.985491</td>\n",
       "      <td>1.207986</td>\n",
       "      <td>Musical|Romance</td>\n",
       "    </tr>\n",
       "  </tbody>\n",
       "</table>\n",
       "<p>11750 rows × 5 columns</p>\n",
       "</div>"
      ],
      "text/plain": [
       "                                    title  count      mean  weighted_score  \\\n",
       "307      Shawshank Redemption, The (1994)  77887  4.441710        4.441205   \n",
       "783                 Godfather, The (1972)  49846  4.353639        4.352926   \n",
       "49             Usual Suspects, The (1995)  53195  4.318987        4.318346   \n",
       "509               Schindler's List (1993)  59857  4.290952        4.290403   \n",
       "1111       Godfather: Part II, The (1974)  32247  4.268878        4.267889   \n",
       "...                                   ...    ...       ...             ...   \n",
       "1615      Barney's Great Adventure (1998)    432  1.197917        1.408676   \n",
       "5828                         Gigli (2003)    741  1.170715        1.299900   \n",
       "7106  SuperBabies: Baby Geniuses 2 (2004)    219  0.851598        1.290539   \n",
       "4333                       Glitter (2001)    713  1.135344        1.271324   \n",
       "5746          From Justin to Kelly (2003)    448  0.985491        1.207986   \n",
       "\n",
       "                      genres  \n",
       "307              Crime|Drama  \n",
       "783              Crime|Drama  \n",
       "49    Crime|Mystery|Thriller  \n",
       "509                Drama|War  \n",
       "1111             Crime|Drama  \n",
       "...                      ...  \n",
       "1615      Adventure|Children  \n",
       "5828    Comedy|Crime|Romance  \n",
       "7106                  Comedy  \n",
       "4333   Drama|Musical|Romance  \n",
       "5746         Musical|Romance  \n",
       "\n",
       "[11750 rows x 5 columns]"
      ]
     },
     "execution_count": 31,
     "metadata": {},
     "output_type": "execute_result"
    }
   ],
   "source": [
    "#list top scored movies over the whole range of movies\n",
    "pd.DataFrame(movie_score.sort_values(['weighted_score'], ascending=False)[['title', 'count', 'mean', 'weighted_score', 'genres']])\n"
   ]
  },
  {
   "cell_type": "code",
   "execution_count": 32,
   "id": "75c4e9ec",
   "metadata": {},
   "outputs": [
    {
     "data": {
      "text/plain": [
       "<AxesSubplot:xlabel='title', ylabel='count'>"
      ]
     },
     "execution_count": 32,
     "metadata": {},
     "output_type": "execute_result"
    },
    {
     "data": {
      "image/png": "[encoded data removed]",
      "text/plain": [
       "<Figure size 640x480 with 1 Axes>"
      ]
     },
     "metadata": {},
     "output_type": "display_data"
    }
   ],
   "source": [
    "sns.scatterplot(data=movie_score[:500], x=\"title\", y=\"count\")\n"
   ]
  },
  {
   "cell_type": "code",
   "execution_count": 33,
   "id": "cc2bdcd7",
   "metadata": {
    "id": "cc2bdcd7"
   },
   "outputs": [],
   "source": [
    "# Gives the best movies according to genre based on weighted score which is calculated using IMDB formula\n",
    "def best_movies_by_genre(genre,top_n):\n",
    "    return pd.DataFrame(movie_score.loc[(movie_score[genre]==1)].sort_values(['weighted_score'],ascending=False)[['title','count','mean','weighted_score']][:top_n])"
   ]
  },
  {
   "cell_type": "code",
   "execution_count": 34,
   "id": "2380c5c3",
   "metadata": {
    "colab": {
     "base_uri": "https://localhost:8080/",
     "height": 206
    },
    "id": "2380c5c3",
    "outputId": "9497930e-0f02-4487-e44a-db15de685769"
   },
   "outputs": [
    {
     "data": {
      "text/html": [
       "<div>\n",
       "<style scoped>\n",
       "    .dataframe tbody tr th:only-of-type {\n",
       "        vertical-align: middle;\n",
       "    }\n",
       "\n",
       "    .dataframe tbody tr th {\n",
       "        vertical-align: top;\n",
       "    }\n",
       "\n",
       "    .dataframe thead th {\n",
       "        text-align: right;\n",
       "    }\n",
       "</style>\n",
       "<table border=\"1\" class=\"dataframe\">\n",
       "  <thead>\n",
       "    <tr style=\"text-align: right;\">\n",
       "      <th></th>\n",
       "      <th>title</th>\n",
       "      <th>count</th>\n",
       "      <th>mean</th>\n",
       "      <th>weighted_score</th>\n",
       "    </tr>\n",
       "  </thead>\n",
       "  <tbody>\n",
       "    <tr>\n",
       "      <th>307</th>\n",
       "      <td>Shawshank Redemption, The (1994)</td>\n",
       "      <td>77887</td>\n",
       "      <td>4.441710</td>\n",
       "      <td>4.441205</td>\n",
       "    </tr>\n",
       "    <tr>\n",
       "      <th>783</th>\n",
       "      <td>Godfather, The (1972)</td>\n",
       "      <td>49846</td>\n",
       "      <td>4.353639</td>\n",
       "      <td>4.352926</td>\n",
       "    </tr>\n",
       "    <tr>\n",
       "      <th>49</th>\n",
       "      <td>Usual Suspects, The (1995)</td>\n",
       "      <td>53195</td>\n",
       "      <td>4.318987</td>\n",
       "      <td>4.318346</td>\n",
       "    </tr>\n",
       "    <tr>\n",
       "      <th>1111</th>\n",
       "      <td>Godfather: Part II, The (1974)</td>\n",
       "      <td>32247</td>\n",
       "      <td>4.268878</td>\n",
       "      <td>4.267889</td>\n",
       "    </tr>\n",
       "    <tr>\n",
       "      <th>2686</th>\n",
       "      <td>Fight Club (1999)</td>\n",
       "      <td>48879</td>\n",
       "      <td>4.233925</td>\n",
       "      <td>4.233302</td>\n",
       "    </tr>\n",
       "  </tbody>\n",
       "</table>\n",
       "</div>"
      ],
      "text/plain": [
       "                                 title  count      mean  weighted_score\n",
       "307   Shawshank Redemption, The (1994)  77887  4.441710        4.441205\n",
       "783              Godfather, The (1972)  49846  4.353639        4.352926\n",
       "49          Usual Suspects, The (1995)  53195  4.318987        4.318346\n",
       "1111    Godfather: Part II, The (1974)  32247  4.268878        4.267889\n",
       "2686                 Fight Club (1999)  48879  4.233925        4.233302"
      ]
     },
     "execution_count": 34,
     "metadata": {},
     "output_type": "execute_result"
    }
   ],
   "source": [
    "best_movies_by_genre(\"Crime\",5)"
   ]
  },
  {
   "cell_type": "markdown",
   "id": "wkAtSW2W6NrU",
   "metadata": {
    "id": "wkAtSW2W6NrU"
   },
   "source": [
    "##Movie Recommendation Based on other viewers choice"
   ]
  },
  {
   "cell_type": "code",
   "execution_count": 35,
   "id": "16a55343",
   "metadata": {
    "id": "16a55343"
   },
   "outputs": [],
   "source": [
    "#merging ratings and movies dataframes\n",
    "ratings_movies = pd.merge(rating,movies, on = 'movieId')"
   ]
  },
  {
   "cell_type": "code",
   "execution_count": 36,
   "id": "a176ce78",
   "metadata": {
    "colab": {
     "base_uri": "https://localhost:8080/",
     "height": 206
    },
    "id": "a176ce78",
    "outputId": "1b009aef-6390-4e49-c92b-ff8307750caf"
   },
   "outputs": [
    {
     "data": {
      "text/html": [
       "<div>\n",
       "<style scoped>\n",
       "    .dataframe tbody tr th:only-of-type {\n",
       "        vertical-align: middle;\n",
       "    }\n",
       "\n",
       "    .dataframe tbody tr th {\n",
       "        vertical-align: top;\n",
       "    }\n",
       "\n",
       "    .dataframe thead th {\n",
       "        text-align: right;\n",
       "    }\n",
       "</style>\n",
       "<table border=\"1\" class=\"dataframe\">\n",
       "  <thead>\n",
       "    <tr style=\"text-align: right;\">\n",
       "      <th></th>\n",
       "      <th>userId</th>\n",
       "      <th>movieId</th>\n",
       "      <th>rating</th>\n",
       "      <th>title</th>\n",
       "      <th>genres</th>\n",
       "    </tr>\n",
       "  </thead>\n",
       "  <tbody>\n",
       "    <tr>\n",
       "      <th>0</th>\n",
       "      <td>1</td>\n",
       "      <td>169</td>\n",
       "      <td>2.5</td>\n",
       "      <td>Free Willy 2: The Adventure Home (1995)</td>\n",
       "      <td>Adventure|Children|Drama</td>\n",
       "    </tr>\n",
       "    <tr>\n",
       "      <th>1</th>\n",
       "      <td>13</td>\n",
       "      <td>169</td>\n",
       "      <td>1.0</td>\n",
       "      <td>Free Willy 2: The Adventure Home (1995)</td>\n",
       "      <td>Adventure|Children|Drama</td>\n",
       "    </tr>\n",
       "    <tr>\n",
       "      <th>2</th>\n",
       "      <td>14</td>\n",
       "      <td>169</td>\n",
       "      <td>3.0</td>\n",
       "      <td>Free Willy 2: The Adventure Home (1995)</td>\n",
       "      <td>Adventure|Children|Drama</td>\n",
       "    </tr>\n",
       "    <tr>\n",
       "      <th>3</th>\n",
       "      <td>17</td>\n",
       "      <td>169</td>\n",
       "      <td>1.0</td>\n",
       "      <td>Free Willy 2: The Adventure Home (1995)</td>\n",
       "      <td>Adventure|Children|Drama</td>\n",
       "    </tr>\n",
       "    <tr>\n",
       "      <th>4</th>\n",
       "      <td>68</td>\n",
       "      <td>169</td>\n",
       "      <td>1.0</td>\n",
       "      <td>Free Willy 2: The Adventure Home (1995)</td>\n",
       "      <td>Adventure|Children|Drama</td>\n",
       "    </tr>\n",
       "  </tbody>\n",
       "</table>\n",
       "</div>"
      ],
      "text/plain": [
       "   userId  movieId  rating                                    title  \\\n",
       "0       1      169     2.5  Free Willy 2: The Adventure Home (1995)   \n",
       "1      13      169     1.0  Free Willy 2: The Adventure Home (1995)   \n",
       "2      14      169     3.0  Free Willy 2: The Adventure Home (1995)   \n",
       "3      17      169     1.0  Free Willy 2: The Adventure Home (1995)   \n",
       "4      68      169     1.0  Free Willy 2: The Adventure Home (1995)   \n",
       "\n",
       "                     genres  \n",
       "0  Adventure|Children|Drama  \n",
       "1  Adventure|Children|Drama  \n",
       "2  Adventure|Children|Drama  \n",
       "3  Adventure|Children|Drama  \n",
       "4  Adventure|Children|Drama  "
      ]
     },
     "execution_count": 36,
     "metadata": {},
     "output_type": "execute_result"
    }
   ],
   "source": [
    "ratings_movies.head()"
   ]
  },
  {
   "cell_type": "code",
   "execution_count": 37,
   "id": "287a316a",
   "metadata": {
    "colab": {
     "base_uri": "https://localhost:8080/"
    },
    "id": "287a316a",
    "outputId": "021b3b08-697b-4677-fa3d-a79141669270"
   },
   "outputs": [
    {
     "data": {
      "text/plain": [
       "(22884377, 5)"
      ]
     },
     "execution_count": 37,
     "metadata": {},
     "output_type": "execute_result"
    }
   ],
   "source": [
    "ratings_movies.shape"
   ]
  },
  {
   "cell_type": "code",
   "execution_count": 38,
   "id": "f062fa92",
   "metadata": {
    "id": "f062fa92"
   },
   "outputs": [],
   "source": [
    "#Gets the other top 10 movies which are watched by the people who saw this particular movie\n",
    "def get_other_movies(movie_name):\n",
    "    #get all users who watched a specific movie\n",
    "    df_movie_users_series = ratings_movies.loc[ratings_movies['title']==movie_name]['userId']\n",
    "    #convert to a data frame\n",
    "    df_movie_users = pd.DataFrame(df_movie_users_series,columns=['userId'])\n",
    "    #get a list of all other movies watched by these users\n",
    "    other_movies = pd.merge(df_movie_users,ratings_movies,on='userId')\n",
    "    #get a list of the most commonly watched movies by these other user\n",
    "    other_users_watched = pd.DataFrame(other_movies.groupby('title')['userId'].count()).sort_values('userId',ascending=False)\n",
    "    other_users_watched['Percentage_who_watched'] = round(other_users_watched['userId']*100/other_users_watched['userId'][0],1)\n",
    "    return other_users_watched[:10]"
   ]
  },
  {
   "cell_type": "code",
   "execution_count": 39,
   "id": "0dcbb710",
   "metadata": {
    "colab": {
     "base_uri": "https://localhost:8080/",
     "height": 394
    },
    "id": "0dcbb710",
    "outputId": "e3a78c7e-83c3-47f0-ddb5-187921aad868"
   },
   "outputs": [
    {
     "data": {
      "text/html": [
       "<div>\n",
       "<style scoped>\n",
       "    .dataframe tbody tr th:only-of-type {\n",
       "        vertical-align: middle;\n",
       "    }\n",
       "\n",
       "    .dataframe tbody tr th {\n",
       "        vertical-align: top;\n",
       "    }\n",
       "\n",
       "    .dataframe thead th {\n",
       "        text-align: right;\n",
       "    }\n",
       "</style>\n",
       "<table border=\"1\" class=\"dataframe\">\n",
       "  <thead>\n",
       "    <tr style=\"text-align: right;\">\n",
       "      <th></th>\n",
       "      <th>userId</th>\n",
       "      <th>Percentage_who_watched</th>\n",
       "    </tr>\n",
       "    <tr>\n",
       "      <th>title</th>\n",
       "      <th></th>\n",
       "      <th></th>\n",
       "    </tr>\n",
       "  </thead>\n",
       "  <tbody>\n",
       "    <tr>\n",
       "      <th>Jumanji (1995)</th>\n",
       "      <td>23950</td>\n",
       "      <td>100.0</td>\n",
       "    </tr>\n",
       "    <tr>\n",
       "      <th>Jurassic Park (1993)</th>\n",
       "      <td>19172</td>\n",
       "      <td>80.1</td>\n",
       "    </tr>\n",
       "    <tr>\n",
       "      <th>Forrest Gump (1994)</th>\n",
       "      <td>18870</td>\n",
       "      <td>78.8</td>\n",
       "    </tr>\n",
       "    <tr>\n",
       "      <th>Pulp Fiction (1994)</th>\n",
       "      <td>16656</td>\n",
       "      <td>69.5</td>\n",
       "    </tr>\n",
       "    <tr>\n",
       "      <th>Lion King, The (1994)</th>\n",
       "      <td>16199</td>\n",
       "      <td>67.6</td>\n",
       "    </tr>\n",
       "    <tr>\n",
       "      <th>Terminator 2: Judgment Day (1991)</th>\n",
       "      <td>16156</td>\n",
       "      <td>67.5</td>\n",
       "    </tr>\n",
       "    <tr>\n",
       "      <th>Silence of the Lambs, The (1991)</th>\n",
       "      <td>16052</td>\n",
       "      <td>67.0</td>\n",
       "    </tr>\n",
       "    <tr>\n",
       "      <th>Mask, The (1994)</th>\n",
       "      <td>15692</td>\n",
       "      <td>65.5</td>\n",
       "    </tr>\n",
       "    <tr>\n",
       "      <th>Braveheart (1995)</th>\n",
       "      <td>15520</td>\n",
       "      <td>64.8</td>\n",
       "    </tr>\n",
       "    <tr>\n",
       "      <th>Aladdin (1992)</th>\n",
       "      <td>15506</td>\n",
       "      <td>64.7</td>\n",
       "    </tr>\n",
       "  </tbody>\n",
       "</table>\n",
       "</div>"
      ],
      "text/plain": [
       "                                   userId  Percentage_who_watched\n",
       "title                                                            \n",
       "Jumanji (1995)                      23950                   100.0\n",
       "Jurassic Park (1993)                19172                    80.1\n",
       "Forrest Gump (1994)                 18870                    78.8\n",
       "Pulp Fiction (1994)                 16656                    69.5\n",
       "Lion King, The (1994)               16199                    67.6\n",
       "Terminator 2: Judgment Day (1991)   16156                    67.5\n",
       "Silence of the Lambs, The (1991)    16052                    67.0\n",
       "Mask, The (1994)                    15692                    65.5\n",
       "Braveheart (1995)                   15520                    64.8\n",
       "Aladdin (1992)                      15506                    64.7"
      ]
     },
     "execution_count": 39,
     "metadata": {},
     "output_type": "execute_result"
    }
   ],
   "source": [
    "# # Getting other top 10 movies which are watched by the people\n",
    "get_other_movies('Jumanji (1995)')"
   ]
  },
  {
   "cell_type": "markdown",
   "id": "e38D53jX6c1X",
   "metadata": {
    "id": "e38D53jX6c1X"
   },
   "source": [
    "##Movie-recommendation based on the content of the movie"
   ]
  },
  {
   "cell_type": "code",
   "execution_count": 40,
   "id": "327f9d9b",
   "metadata": {
    "colab": {
     "base_uri": "https://localhost:8080/"
    },
    "id": "327f9d9b",
    "outputId": "4e767a53-fa47-44b9-8ebb-30a9d6df7613"
   },
   "outputs": [
    {
     "data": {
      "text/plain": [
       "array([[1, 0, 0, ..., 0, 0, 0],\n",
       "       [0, 0, 0, ..., 0, 0, 0],\n",
       "       [1, 0, 0, ..., 0, 0, 0],\n",
       "       ...,\n",
       "       [0, 0, 1, ..., 0, 0, 0],\n",
       "       [0, 0, 1, ..., 0, 0, 1],\n",
       "       [0, 0, 0, ..., 0, 0, 0]], dtype=int64)"
      ]
     },
     "execution_count": 40,
     "metadata": {},
     "output_type": "execute_result"
    }
   ],
   "source": [
    "#Getting the movies list with only genres like Musical and other such columns\n",
    "movie_content_df_temp = movies_genres.copy()\n",
    "movie_content_df_temp.set_index('movieId')\n",
    "movie_content_df = movie_content_df_temp.drop(columns = ['movieId','title','genres'])\n",
    "movie_content_df = movie_content_df.values\n",
    "movie_content_df"
   ]
  },
  {
   "cell_type": "code",
   "execution_count": 41,
   "id": "d6f8dc7a",
   "metadata": {
    "id": "d6f8dc7a"
   },
   "outputs": [],
   "source": [
    "# Compute the cosine similarity matrix\n",
    "cosine_sim = linear_kernel(movie_content_df,movie_content_df)"
   ]
  },
  {
   "cell_type": "code",
   "execution_count": 42,
   "id": "95d877b5",
   "metadata": {
    "colab": {
     "base_uri": "https://localhost:8080/"
    },
    "id": "95d877b5",
    "outputId": "2909f021-a6c0-4c3d-af32-179931351235"
   },
   "outputs": [
    {
     "data": {
      "text/plain": [
       "array([[5., 3., 1., ..., 0., 0., 0.],\n",
       "       [3., 3., 0., ..., 0., 0., 0.],\n",
       "       [1., 0., 2., ..., 0., 0., 0.],\n",
       "       ...,\n",
       "       [0., 0., 0., ..., 1., 1., 0.],\n",
       "       [0., 0., 0., ..., 1., 2., 0.],\n",
       "       [0., 0., 0., ..., 0., 0., 1.]])"
      ]
     },
     "execution_count": 42,
     "metadata": {},
     "output_type": "execute_result"
    }
   ],
   "source": [
    "# Similarity of the movies based on the content\n",
    "cosine_sim"
   ]
  },
  {
   "cell_type": "code",
   "execution_count": 43,
   "id": "deaca932",
   "metadata": {
    "colab": {
     "base_uri": "https://localhost:8080/"
    },
    "id": "deaca932",
    "outputId": "dfcffd26-5271-4a04-fa39-4d25c547e7f9"
   },
   "outputs": [
    {
     "data": {
      "text/plain": [
       "title\n",
       "Toy Story (1995)                          0\n",
       "Jumanji (1995)                            1\n",
       "Grumpier Old Men (1995)                   2\n",
       "Waiting to Exhale (1995)                  3\n",
       "Father of the Bride Part II (1995)        4\n",
       "                                      ...  \n",
       "Grand Slam (1967)                     34203\n",
       "Bloodmoney (2010)                     34204\n",
       "The Butterfly Circus (2009)           34205\n",
       "Zero (2015)                           34206\n",
       "The 2000 Year Old Man (1975)          34207\n",
       "Length: 34208, dtype: int64"
      ]
     },
     "execution_count": 43,
     "metadata": {},
     "output_type": "execute_result"
    }
   ],
   "source": [
    "#create a series of the movie id and title\n",
    "indicies = pd.Series(movie_content_df_temp.index, movie_content_df_temp['title'])\n",
    "indicies "
   ]
  },
  {
   "cell_type": "code",
   "execution_count": 44,
   "id": "0e3ce184",
   "metadata": {
    "id": "0e3ce184"
   },
   "outputs": [],
   "source": [
    "#Gets the top 10 similar movies based on the content\n",
    "def get_movies_content(name) :\n",
    "    movie_index=indicies[name]\n",
    "    sim_scores = list(enumerate(cosine_sim[movie_index]))\n",
    "    # Sort the movies based on the similarity scores\n",
    "    sim_scores = sorted(sim_scores, key=lambda x: x[1], reverse=True)\n",
    "   \n",
    "    # Get the scores of the 10 most similar movies\n",
    "    sim_scores = sim_scores[0:11]\n",
    "#     print(sim_scores)\n",
    "    # Get the movie indices\n",
    "    movie_indices = [i[0] for i in sim_scores]\n",
    "#     print(movie_indices)\n",
    "    similar_movies = pd.DataFrame(movie_content_df_temp[['title','genres']].iloc[movie_indices])\n",
    "    return similar_movies"
   ]
  },
  {
   "cell_type": "code",
   "execution_count": 45,
   "id": "7e080d65",
   "metadata": {
    "colab": {
     "base_uri": "https://localhost:8080/",
     "height": 394
    },
    "id": "7e080d65",
    "outputId": "865ce56a-5a92-4c01-8dc1-0f4ba92ec6e0"
   },
   "outputs": [
    {
     "data": {
      "text/html": [
       "<div>\n",
       "<style scoped>\n",
       "    .dataframe tbody tr th:only-of-type {\n",
       "        vertical-align: middle;\n",
       "    }\n",
       "\n",
       "    .dataframe tbody tr th {\n",
       "        vertical-align: top;\n",
       "    }\n",
       "\n",
       "    .dataframe thead th {\n",
       "        text-align: right;\n",
       "    }\n",
       "</style>\n",
       "<table border=\"1\" class=\"dataframe\">\n",
       "  <thead>\n",
       "    <tr style=\"text-align: right;\">\n",
       "      <th></th>\n",
       "      <th>title</th>\n",
       "      <th>genres</th>\n",
       "    </tr>\n",
       "  </thead>\n",
       "  <tbody>\n",
       "    <tr>\n",
       "      <th>0</th>\n",
       "      <td>Toy Story (1995)</td>\n",
       "      <td>Adventure|Animation|Children|Comedy|Fantasy</td>\n",
       "    </tr>\n",
       "    <tr>\n",
       "      <th>664</th>\n",
       "      <td>Space Jam (1996)</td>\n",
       "      <td>Adventure|Animation|Children|Comedy|Fantasy|Sc...</td>\n",
       "    </tr>\n",
       "    <tr>\n",
       "      <th>2210</th>\n",
       "      <td>Antz (1998)</td>\n",
       "      <td>Adventure|Animation|Children|Comedy|Fantasy</td>\n",
       "    </tr>\n",
       "    <tr>\n",
       "      <th>2902</th>\n",
       "      <td>Who Framed Roger Rabbit? (1988)</td>\n",
       "      <td>Adventure|Animation|Children|Comedy|Crime|Fant...</td>\n",
       "    </tr>\n",
       "    <tr>\n",
       "      <th>3028</th>\n",
       "      <td>Toy Story 2 (1999)</td>\n",
       "      <td>Adventure|Animation|Children|Comedy|Fantasy</td>\n",
       "    </tr>\n",
       "    <tr>\n",
       "      <th>3664</th>\n",
       "      <td>Adventures of Rocky and Bullwinkle, The (2000)</td>\n",
       "      <td>Adventure|Animation|Children|Comedy|Fantasy</td>\n",
       "    </tr>\n",
       "    <tr>\n",
       "      <th>3923</th>\n",
       "      <td>Emperor's New Groove, The (2000)</td>\n",
       "      <td>Adventure|Animation|Children|Comedy|Fantasy</td>\n",
       "    </tr>\n",
       "    <tr>\n",
       "      <th>4212</th>\n",
       "      <td>Shrek (2001)</td>\n",
       "      <td>Adventure|Animation|Children|Comedy|Fantasy|Ro...</td>\n",
       "    </tr>\n",
       "    <tr>\n",
       "      <th>4791</th>\n",
       "      <td>Monsters, Inc. (2001)</td>\n",
       "      <td>Adventure|Animation|Children|Comedy|Fantasy</td>\n",
       "    </tr>\n",
       "    <tr>\n",
       "      <th>7815</th>\n",
       "      <td>Chipmunk Adventure, The (1987)</td>\n",
       "      <td>Adventure|Animation|Children|Comedy|Fantasy|Mu...</td>\n",
       "    </tr>\n",
       "    <tr>\n",
       "      <th>8605</th>\n",
       "      <td>Wonderful World of the Brothers Grimm, The (1962)</td>\n",
       "      <td>Adventure|Animation|Children|Comedy|Drama|Fant...</td>\n",
       "    </tr>\n",
       "  </tbody>\n",
       "</table>\n",
       "</div>"
      ],
      "text/plain": [
       "                                                  title  \\\n",
       "0                                      Toy Story (1995)   \n",
       "664                                    Space Jam (1996)   \n",
       "2210                                        Antz (1998)   \n",
       "2902                    Who Framed Roger Rabbit? (1988)   \n",
       "3028                                 Toy Story 2 (1999)   \n",
       "3664     Adventures of Rocky and Bullwinkle, The (2000)   \n",
       "3923                   Emperor's New Groove, The (2000)   \n",
       "4212                                       Shrek (2001)   \n",
       "4791                              Monsters, Inc. (2001)   \n",
       "7815                     Chipmunk Adventure, The (1987)   \n",
       "8605  Wonderful World of the Brothers Grimm, The (1962)   \n",
       "\n",
       "                                                 genres  \n",
       "0           Adventure|Animation|Children|Comedy|Fantasy  \n",
       "664   Adventure|Animation|Children|Comedy|Fantasy|Sc...  \n",
       "2210        Adventure|Animation|Children|Comedy|Fantasy  \n",
       "2902  Adventure|Animation|Children|Comedy|Crime|Fant...  \n",
       "3028        Adventure|Animation|Children|Comedy|Fantasy  \n",
       "3664        Adventure|Animation|Children|Comedy|Fantasy  \n",
       "3923        Adventure|Animation|Children|Comedy|Fantasy  \n",
       "4212  Adventure|Animation|Children|Comedy|Fantasy|Ro...  \n",
       "4791        Adventure|Animation|Children|Comedy|Fantasy  \n",
       "7815  Adventure|Animation|Children|Comedy|Fantasy|Mu...  \n",
       "8605  Adventure|Animation|Children|Comedy|Drama|Fant...  "
      ]
     },
     "execution_count": 45,
     "metadata": {},
     "output_type": "execute_result"
    }
   ],
   "source": [
    "mv=\"Toy Story (1995)\"\n",
    "get_movies_content(mv)"
   ]
  },
  {
   "cell_type": "markdown",
   "id": "N8tkSav66u1E",
   "metadata": {
    "id": "N8tkSav66u1E"
   },
   "source": [
    "##Nearest neighbor implementaion to recommend movie."
   ]
  },
  {
   "cell_type": "code",
   "execution_count": 46,
   "id": "8993d0b6",
   "metadata": {
    "colab": {
     "base_uri": "https://localhost:8080/",
     "height": 237
    },
    "id": "8993d0b6",
    "outputId": "4c99745f-b270-4f38-d8e6-e610fbef56ee"
   },
   "outputs": [
    {
     "data": {
      "text/html": [
       "<div>\n",
       "<style scoped>\n",
       "    .dataframe tbody tr th:only-of-type {\n",
       "        vertical-align: middle;\n",
       "    }\n",
       "\n",
       "    .dataframe tbody tr th {\n",
       "        vertical-align: top;\n",
       "    }\n",
       "\n",
       "    .dataframe thead th {\n",
       "        text-align: right;\n",
       "    }\n",
       "</style>\n",
       "<table border=\"1\" class=\"dataframe\">\n",
       "  <thead>\n",
       "    <tr style=\"text-align: right;\">\n",
       "      <th></th>\n",
       "      <th>mean</th>\n",
       "      <th>count</th>\n",
       "    </tr>\n",
       "    <tr>\n",
       "      <th>movieId</th>\n",
       "      <th></th>\n",
       "      <th></th>\n",
       "    </tr>\n",
       "  </thead>\n",
       "  <tbody>\n",
       "    <tr>\n",
       "      <th>1</th>\n",
       "      <td>3.894802</td>\n",
       "      <td>60424</td>\n",
       "    </tr>\n",
       "    <tr>\n",
       "      <th>2</th>\n",
       "      <td>3.221086</td>\n",
       "      <td>23950</td>\n",
       "    </tr>\n",
       "    <tr>\n",
       "      <th>3</th>\n",
       "      <td>3.180094</td>\n",
       "      <td>15267</td>\n",
       "    </tr>\n",
       "    <tr>\n",
       "      <th>4</th>\n",
       "      <td>2.879727</td>\n",
       "      <td>2935</td>\n",
       "    </tr>\n",
       "    <tr>\n",
       "      <th>5</th>\n",
       "      <td>3.080811</td>\n",
       "      <td>14769</td>\n",
       "    </tr>\n",
       "  </tbody>\n",
       "</table>\n",
       "</div>"
      ],
      "text/plain": [
       "             mean  count\n",
       "movieId                 \n",
       "1        3.894802  60424\n",
       "2        3.221086  23950\n",
       "3        3.180094  15267\n",
       "4        2.879727   2935\n",
       "5        3.080811  14769"
      ]
     },
     "execution_count": 46,
     "metadata": {},
     "output_type": "execute_result"
    }
   ],
   "source": [
    "avg_movie_rating.head()\n",
    "    "
   ]
  },
  {
   "cell_type": "code",
   "execution_count": 47,
   "id": "6d34715d",
   "metadata": {
    "colab": {
     "base_uri": "https://localhost:8080/"
    },
    "id": "6d34715d",
    "outputId": "f7cea2ee-8b42-4bd5-ff5f-e09f518046da"
   },
   "outputs": [
    {
     "name": "stdout",
     "output_type": "stream",
     "text": [
      "11824\n"
     ]
    }
   ],
   "source": [
    "#only include movies with more than min ratings\n",
    "movie_plus_ratings = avg_movie_rating.loc[avg_movie_rating['count']>=min_count]\n",
    "print(len(movie_plus_ratings))"
   ]
  },
  {
   "cell_type": "code",
   "execution_count": 48,
   "id": "16caebaa",
   "metadata": {
    "colab": {
     "base_uri": "https://localhost:8080/",
     "height": 455
    },
    "id": "16caebaa",
    "outputId": "32b4285d-ffc0-4e6b-ac88-fe7956a0ec78"
   },
   "outputs": [
    {
     "data": {
      "text/html": [
       "<div>\n",
       "<style scoped>\n",
       "    .dataframe tbody tr th:only-of-type {\n",
       "        vertical-align: middle;\n",
       "    }\n",
       "\n",
       "    .dataframe tbody tr th {\n",
       "        vertical-align: top;\n",
       "    }\n",
       "\n",
       "    .dataframe thead th {\n",
       "        text-align: right;\n",
       "    }\n",
       "</style>\n",
       "<table border=\"1\" class=\"dataframe\">\n",
       "  <thead>\n",
       "    <tr style=\"text-align: right;\">\n",
       "      <th></th>\n",
       "      <th>mean</th>\n",
       "      <th>count</th>\n",
       "    </tr>\n",
       "    <tr>\n",
       "      <th>movieId</th>\n",
       "      <th></th>\n",
       "      <th></th>\n",
       "    </tr>\n",
       "  </thead>\n",
       "  <tbody>\n",
       "    <tr>\n",
       "      <th>1</th>\n",
       "      <td>3.894802</td>\n",
       "      <td>60424</td>\n",
       "    </tr>\n",
       "    <tr>\n",
       "      <th>2</th>\n",
       "      <td>3.221086</td>\n",
       "      <td>23950</td>\n",
       "    </tr>\n",
       "    <tr>\n",
       "      <th>3</th>\n",
       "      <td>3.180094</td>\n",
       "      <td>15267</td>\n",
       "    </tr>\n",
       "    <tr>\n",
       "      <th>4</th>\n",
       "      <td>2.879727</td>\n",
       "      <td>2935</td>\n",
       "    </tr>\n",
       "    <tr>\n",
       "      <th>5</th>\n",
       "      <td>3.080811</td>\n",
       "      <td>14769</td>\n",
       "    </tr>\n",
       "    <tr>\n",
       "      <th>...</th>\n",
       "      <td>...</td>\n",
       "      <td>...</td>\n",
       "    </tr>\n",
       "    <tr>\n",
       "      <th>148238</th>\n",
       "      <td>2.457944</td>\n",
       "      <td>107</td>\n",
       "    </tr>\n",
       "    <tr>\n",
       "      <th>148626</th>\n",
       "      <td>3.938406</td>\n",
       "      <td>276</td>\n",
       "    </tr>\n",
       "    <tr>\n",
       "      <th>148652</th>\n",
       "      <td>2.318750</td>\n",
       "      <td>80</td>\n",
       "    </tr>\n",
       "    <tr>\n",
       "      <th>149354</th>\n",
       "      <td>3.092593</td>\n",
       "      <td>54</td>\n",
       "    </tr>\n",
       "    <tr>\n",
       "      <th>150548</th>\n",
       "      <td>3.745033</td>\n",
       "      <td>151</td>\n",
       "    </tr>\n",
       "  </tbody>\n",
       "</table>\n",
       "<p>11824 rows × 2 columns</p>\n",
       "</div>"
      ],
      "text/plain": [
       "             mean  count\n",
       "movieId                 \n",
       "1        3.894802  60424\n",
       "2        3.221086  23950\n",
       "3        3.180094  15267\n",
       "4        2.879727   2935\n",
       "5        3.080811  14769\n",
       "...           ...    ...\n",
       "148238   2.457944    107\n",
       "148626   3.938406    276\n",
       "148652   2.318750     80\n",
       "149354   3.092593     54\n",
       "150548   3.745033    151\n",
       "\n",
       "[11824 rows x 2 columns]"
      ]
     },
     "execution_count": 48,
     "metadata": {},
     "output_type": "execute_result"
    }
   ],
   "source": [
    "movie_plus_ratings"
   ]
  },
  {
   "cell_type": "code",
   "execution_count": 49,
   "id": "55377800",
   "metadata": {
    "id": "55377800"
   },
   "outputs": [
    {
     "data": {
      "text/plain": [
       "22715821"
      ]
     },
     "execution_count": 49,
     "metadata": {},
     "output_type": "execute_result"
    }
   ],
   "source": [
    "filtered_ratings = pd.merge(movie_plus_ratings, rating, on=\"movieId\")\n",
    "len(filtered_ratings)"
   ]
  },
  {
   "cell_type": "code",
   "execution_count": 50,
   "id": "139f48ee",
   "metadata": {
    "id": "139f48ee"
   },
   "outputs": [],
   "source": [
    "filtered_ratings=filtered_ratings[:10000000]"
   ]
  },
  {
   "cell_type": "code",
   "execution_count": 51,
   "id": "f7915e1a",
   "metadata": {
    "id": "f7915e1a"
   },
   "outputs": [
    {
     "data": {
      "text/html": [
       "<div>\n",
       "<style scoped>\n",
       "    .dataframe tbody tr th:only-of-type {\n",
       "        vertical-align: middle;\n",
       "    }\n",
       "\n",
       "    .dataframe tbody tr th {\n",
       "        vertical-align: top;\n",
       "    }\n",
       "\n",
       "    .dataframe thead th {\n",
       "        text-align: right;\n",
       "    }\n",
       "</style>\n",
       "<table border=\"1\" class=\"dataframe\">\n",
       "  <thead>\n",
       "    <tr style=\"text-align: right;\">\n",
       "      <th>userId</th>\n",
       "      <th>1</th>\n",
       "      <th>3</th>\n",
       "      <th>4</th>\n",
       "      <th>5</th>\n",
       "      <th>6</th>\n",
       "      <th>7</th>\n",
       "      <th>8</th>\n",
       "      <th>9</th>\n",
       "      <th>10</th>\n",
       "      <th>11</th>\n",
       "      <th>...</th>\n",
       "      <th>247744</th>\n",
       "      <th>247745</th>\n",
       "      <th>247746</th>\n",
       "      <th>247747</th>\n",
       "      <th>247748</th>\n",
       "      <th>247749</th>\n",
       "      <th>247750</th>\n",
       "      <th>247751</th>\n",
       "      <th>247752</th>\n",
       "      <th>247753</th>\n",
       "    </tr>\n",
       "    <tr>\n",
       "      <th>movieId</th>\n",
       "      <th></th>\n",
       "      <th></th>\n",
       "      <th></th>\n",
       "      <th></th>\n",
       "      <th></th>\n",
       "      <th></th>\n",
       "      <th></th>\n",
       "      <th></th>\n",
       "      <th></th>\n",
       "      <th></th>\n",
       "      <th></th>\n",
       "      <th></th>\n",
       "      <th></th>\n",
       "      <th></th>\n",
       "      <th></th>\n",
       "      <th></th>\n",
       "      <th></th>\n",
       "      <th></th>\n",
       "      <th></th>\n",
       "      <th></th>\n",
       "      <th></th>\n",
       "    </tr>\n",
       "  </thead>\n",
       "  <tbody>\n",
       "    <tr>\n",
       "      <th>1</th>\n",
       "      <td>0.0</td>\n",
       "      <td>0.0</td>\n",
       "      <td>0.0</td>\n",
       "      <td>0.0</td>\n",
       "      <td>0.0</td>\n",
       "      <td>0.0</td>\n",
       "      <td>0.0</td>\n",
       "      <td>0.0</td>\n",
       "      <td>0.0</td>\n",
       "      <td>0.0</td>\n",
       "      <td>...</td>\n",
       "      <td>0.0</td>\n",
       "      <td>0.0</td>\n",
       "      <td>0.0</td>\n",
       "      <td>0.0</td>\n",
       "      <td>0.0</td>\n",
       "      <td>0.0</td>\n",
       "      <td>0.0</td>\n",
       "      <td>4.0</td>\n",
       "      <td>0.0</td>\n",
       "      <td>3.0</td>\n",
       "    </tr>\n",
       "    <tr>\n",
       "      <th>2</th>\n",
       "      <td>0.0</td>\n",
       "      <td>0.0</td>\n",
       "      <td>0.0</td>\n",
       "      <td>0.0</td>\n",
       "      <td>0.0</td>\n",
       "      <td>0.0</td>\n",
       "      <td>0.0</td>\n",
       "      <td>0.0</td>\n",
       "      <td>0.0</td>\n",
       "      <td>0.0</td>\n",
       "      <td>...</td>\n",
       "      <td>0.0</td>\n",
       "      <td>0.0</td>\n",
       "      <td>0.0</td>\n",
       "      <td>0.0</td>\n",
       "      <td>0.0</td>\n",
       "      <td>0.0</td>\n",
       "      <td>0.0</td>\n",
       "      <td>0.0</td>\n",
       "      <td>0.0</td>\n",
       "      <td>0.0</td>\n",
       "    </tr>\n",
       "    <tr>\n",
       "      <th>3</th>\n",
       "      <td>0.0</td>\n",
       "      <td>0.0</td>\n",
       "      <td>0.0</td>\n",
       "      <td>0.0</td>\n",
       "      <td>0.0</td>\n",
       "      <td>0.0</td>\n",
       "      <td>0.0</td>\n",
       "      <td>0.0</td>\n",
       "      <td>0.0</td>\n",
       "      <td>1.5</td>\n",
       "      <td>...</td>\n",
       "      <td>0.0</td>\n",
       "      <td>0.0</td>\n",
       "      <td>0.0</td>\n",
       "      <td>0.0</td>\n",
       "      <td>3.0</td>\n",
       "      <td>0.0</td>\n",
       "      <td>0.0</td>\n",
       "      <td>0.0</td>\n",
       "      <td>0.0</td>\n",
       "      <td>0.0</td>\n",
       "    </tr>\n",
       "    <tr>\n",
       "      <th>4</th>\n",
       "      <td>0.0</td>\n",
       "      <td>0.0</td>\n",
       "      <td>0.0</td>\n",
       "      <td>0.0</td>\n",
       "      <td>0.0</td>\n",
       "      <td>0.0</td>\n",
       "      <td>0.0</td>\n",
       "      <td>0.0</td>\n",
       "      <td>0.0</td>\n",
       "      <td>0.0</td>\n",
       "      <td>...</td>\n",
       "      <td>0.0</td>\n",
       "      <td>0.0</td>\n",
       "      <td>0.0</td>\n",
       "      <td>0.0</td>\n",
       "      <td>0.0</td>\n",
       "      <td>0.0</td>\n",
       "      <td>0.0</td>\n",
       "      <td>0.0</td>\n",
       "      <td>0.0</td>\n",
       "      <td>0.0</td>\n",
       "    </tr>\n",
       "    <tr>\n",
       "      <th>5</th>\n",
       "      <td>0.0</td>\n",
       "      <td>0.0</td>\n",
       "      <td>0.0</td>\n",
       "      <td>0.0</td>\n",
       "      <td>0.0</td>\n",
       "      <td>0.0</td>\n",
       "      <td>0.0</td>\n",
       "      <td>0.0</td>\n",
       "      <td>0.0</td>\n",
       "      <td>0.0</td>\n",
       "      <td>...</td>\n",
       "      <td>0.0</td>\n",
       "      <td>0.0</td>\n",
       "      <td>0.0</td>\n",
       "      <td>0.0</td>\n",
       "      <td>3.0</td>\n",
       "      <td>0.0</td>\n",
       "      <td>0.0</td>\n",
       "      <td>0.0</td>\n",
       "      <td>0.0</td>\n",
       "      <td>0.0</td>\n",
       "    </tr>\n",
       "  </tbody>\n",
       "</table>\n",
       "<p>5 rows × 240350 columns</p>\n",
       "</div>"
      ],
      "text/plain": [
       "userId   1       3       4       5       6       7       8       9       \\\n",
       "movieId                                                                   \n",
       "1           0.0     0.0     0.0     0.0     0.0     0.0     0.0     0.0   \n",
       "2           0.0     0.0     0.0     0.0     0.0     0.0     0.0     0.0   \n",
       "3           0.0     0.0     0.0     0.0     0.0     0.0     0.0     0.0   \n",
       "4           0.0     0.0     0.0     0.0     0.0     0.0     0.0     0.0   \n",
       "5           0.0     0.0     0.0     0.0     0.0     0.0     0.0     0.0   \n",
       "\n",
       "userId   10      11      ...  247744  247745  247746  247747  247748  247749  \\\n",
       "movieId                  ...                                                   \n",
       "1           0.0     0.0  ...     0.0     0.0     0.0     0.0     0.0     0.0   \n",
       "2           0.0     0.0  ...     0.0     0.0     0.0     0.0     0.0     0.0   \n",
       "3           0.0     1.5  ...     0.0     0.0     0.0     0.0     3.0     0.0   \n",
       "4           0.0     0.0  ...     0.0     0.0     0.0     0.0     0.0     0.0   \n",
       "5           0.0     0.0  ...     0.0     0.0     0.0     0.0     3.0     0.0   \n",
       "\n",
       "userId   247750  247751  247752  247753  \n",
       "movieId                                  \n",
       "1           0.0     4.0     0.0     3.0  \n",
       "2           0.0     0.0     0.0     0.0  \n",
       "3           0.0     0.0     0.0     0.0  \n",
       "4           0.0     0.0     0.0     0.0  \n",
       "5           0.0     0.0     0.0     0.0  \n",
       "\n",
       "[5 rows x 240350 columns]"
      ]
     },
     "execution_count": 51,
     "metadata": {},
     "output_type": "execute_result"
    }
   ],
   "source": [
    "#create a matrix table with movieIds on the rows and userIds in the columns.\n",
    "#replace NAN values with 0\n",
    "movie_wide = filtered_ratings.pivot(index = 'movieId', columns = 'userId', values = 'rating').fillna(0)\n",
    "movie_wide.head()"
   ]
  },
  {
   "cell_type": "code",
   "execution_count": 52,
   "id": "0fadd99d",
   "metadata": {
    "id": "0fadd99d"
   },
   "outputs": [
    {
     "data": {
      "text/html": [
       "<div>\n",
       "<style scoped>\n",
       "    .dataframe tbody tr th:only-of-type {\n",
       "        vertical-align: middle;\n",
       "    }\n",
       "\n",
       "    .dataframe tbody tr th {\n",
       "        vertical-align: top;\n",
       "    }\n",
       "\n",
       "    .dataframe thead th {\n",
       "        text-align: right;\n",
       "    }\n",
       "</style>\n",
       "<table border=\"1\" class=\"dataframe\">\n",
       "  <thead>\n",
       "    <tr style=\"text-align: right;\">\n",
       "      <th>userId</th>\n",
       "      <th>1</th>\n",
       "      <th>3</th>\n",
       "      <th>4</th>\n",
       "      <th>5</th>\n",
       "      <th>6</th>\n",
       "      <th>7</th>\n",
       "      <th>8</th>\n",
       "      <th>9</th>\n",
       "      <th>10</th>\n",
       "      <th>11</th>\n",
       "      <th>...</th>\n",
       "      <th>247744</th>\n",
       "      <th>247745</th>\n",
       "      <th>247746</th>\n",
       "      <th>247747</th>\n",
       "      <th>247748</th>\n",
       "      <th>247749</th>\n",
       "      <th>247750</th>\n",
       "      <th>247751</th>\n",
       "      <th>247752</th>\n",
       "      <th>247753</th>\n",
       "    </tr>\n",
       "    <tr>\n",
       "      <th>movieId</th>\n",
       "      <th></th>\n",
       "      <th></th>\n",
       "      <th></th>\n",
       "      <th></th>\n",
       "      <th></th>\n",
       "      <th></th>\n",
       "      <th></th>\n",
       "      <th></th>\n",
       "      <th></th>\n",
       "      <th></th>\n",
       "      <th></th>\n",
       "      <th></th>\n",
       "      <th></th>\n",
       "      <th></th>\n",
       "      <th></th>\n",
       "      <th></th>\n",
       "      <th></th>\n",
       "      <th></th>\n",
       "      <th></th>\n",
       "      <th></th>\n",
       "      <th></th>\n",
       "    </tr>\n",
       "  </thead>\n",
       "  <tbody>\n",
       "    <tr>\n",
       "      <th>1</th>\n",
       "      <td>0.0</td>\n",
       "      <td>0.0</td>\n",
       "      <td>0.0</td>\n",
       "      <td>0.0</td>\n",
       "      <td>0.0</td>\n",
       "      <td>0.0</td>\n",
       "      <td>0.0</td>\n",
       "      <td>0.0</td>\n",
       "      <td>0.0</td>\n",
       "      <td>0.0</td>\n",
       "      <td>...</td>\n",
       "      <td>0.0</td>\n",
       "      <td>0.0</td>\n",
       "      <td>0.0</td>\n",
       "      <td>0.0</td>\n",
       "      <td>0.0</td>\n",
       "      <td>0.0</td>\n",
       "      <td>0.0</td>\n",
       "      <td>4.0</td>\n",
       "      <td>0.0</td>\n",
       "      <td>3.0</td>\n",
       "    </tr>\n",
       "    <tr>\n",
       "      <th>2</th>\n",
       "      <td>0.0</td>\n",
       "      <td>0.0</td>\n",
       "      <td>0.0</td>\n",
       "      <td>0.0</td>\n",
       "      <td>0.0</td>\n",
       "      <td>0.0</td>\n",
       "      <td>0.0</td>\n",
       "      <td>0.0</td>\n",
       "      <td>0.0</td>\n",
       "      <td>0.0</td>\n",
       "      <td>...</td>\n",
       "      <td>0.0</td>\n",
       "      <td>0.0</td>\n",
       "      <td>0.0</td>\n",
       "      <td>0.0</td>\n",
       "      <td>0.0</td>\n",
       "      <td>0.0</td>\n",
       "      <td>0.0</td>\n",
       "      <td>0.0</td>\n",
       "      <td>0.0</td>\n",
       "      <td>0.0</td>\n",
       "    </tr>\n",
       "    <tr>\n",
       "      <th>3</th>\n",
       "      <td>0.0</td>\n",
       "      <td>0.0</td>\n",
       "      <td>0.0</td>\n",
       "      <td>0.0</td>\n",
       "      <td>0.0</td>\n",
       "      <td>0.0</td>\n",
       "      <td>0.0</td>\n",
       "      <td>0.0</td>\n",
       "      <td>0.0</td>\n",
       "      <td>1.5</td>\n",
       "      <td>...</td>\n",
       "      <td>0.0</td>\n",
       "      <td>0.0</td>\n",
       "      <td>0.0</td>\n",
       "      <td>0.0</td>\n",
       "      <td>3.0</td>\n",
       "      <td>0.0</td>\n",
       "      <td>0.0</td>\n",
       "      <td>0.0</td>\n",
       "      <td>0.0</td>\n",
       "      <td>0.0</td>\n",
       "    </tr>\n",
       "    <tr>\n",
       "      <th>4</th>\n",
       "      <td>0.0</td>\n",
       "      <td>0.0</td>\n",
       "      <td>0.0</td>\n",
       "      <td>0.0</td>\n",
       "      <td>0.0</td>\n",
       "      <td>0.0</td>\n",
       "      <td>0.0</td>\n",
       "      <td>0.0</td>\n",
       "      <td>0.0</td>\n",
       "      <td>0.0</td>\n",
       "      <td>...</td>\n",
       "      <td>0.0</td>\n",
       "      <td>0.0</td>\n",
       "      <td>0.0</td>\n",
       "      <td>0.0</td>\n",
       "      <td>0.0</td>\n",
       "      <td>0.0</td>\n",
       "      <td>0.0</td>\n",
       "      <td>0.0</td>\n",
       "      <td>0.0</td>\n",
       "      <td>0.0</td>\n",
       "    </tr>\n",
       "    <tr>\n",
       "      <th>5</th>\n",
       "      <td>0.0</td>\n",
       "      <td>0.0</td>\n",
       "      <td>0.0</td>\n",
       "      <td>0.0</td>\n",
       "      <td>0.0</td>\n",
       "      <td>0.0</td>\n",
       "      <td>0.0</td>\n",
       "      <td>0.0</td>\n",
       "      <td>0.0</td>\n",
       "      <td>0.0</td>\n",
       "      <td>...</td>\n",
       "      <td>0.0</td>\n",
       "      <td>0.0</td>\n",
       "      <td>0.0</td>\n",
       "      <td>0.0</td>\n",
       "      <td>3.0</td>\n",
       "      <td>0.0</td>\n",
       "      <td>0.0</td>\n",
       "      <td>0.0</td>\n",
       "      <td>0.0</td>\n",
       "      <td>0.0</td>\n",
       "    </tr>\n",
       "    <tr>\n",
       "      <th>...</th>\n",
       "      <td>...</td>\n",
       "      <td>...</td>\n",
       "      <td>...</td>\n",
       "      <td>...</td>\n",
       "      <td>...</td>\n",
       "      <td>...</td>\n",
       "      <td>...</td>\n",
       "      <td>...</td>\n",
       "      <td>...</td>\n",
       "      <td>...</td>\n",
       "      <td>...</td>\n",
       "      <td>...</td>\n",
       "      <td>...</td>\n",
       "      <td>...</td>\n",
       "      <td>...</td>\n",
       "      <td>...</td>\n",
       "      <td>...</td>\n",
       "      <td>...</td>\n",
       "      <td>...</td>\n",
       "      <td>...</td>\n",
       "      <td>...</td>\n",
       "    </tr>\n",
       "    <tr>\n",
       "      <th>1914</th>\n",
       "      <td>0.0</td>\n",
       "      <td>0.0</td>\n",
       "      <td>0.0</td>\n",
       "      <td>0.0</td>\n",
       "      <td>0.0</td>\n",
       "      <td>0.0</td>\n",
       "      <td>0.0</td>\n",
       "      <td>0.0</td>\n",
       "      <td>0.0</td>\n",
       "      <td>0.0</td>\n",
       "      <td>...</td>\n",
       "      <td>0.0</td>\n",
       "      <td>0.0</td>\n",
       "      <td>0.0</td>\n",
       "      <td>0.0</td>\n",
       "      <td>0.0</td>\n",
       "      <td>0.0</td>\n",
       "      <td>0.0</td>\n",
       "      <td>0.0</td>\n",
       "      <td>0.0</td>\n",
       "      <td>0.0</td>\n",
       "    </tr>\n",
       "    <tr>\n",
       "      <th>1915</th>\n",
       "      <td>0.0</td>\n",
       "      <td>0.0</td>\n",
       "      <td>0.0</td>\n",
       "      <td>0.0</td>\n",
       "      <td>0.0</td>\n",
       "      <td>0.0</td>\n",
       "      <td>0.0</td>\n",
       "      <td>0.0</td>\n",
       "      <td>0.0</td>\n",
       "      <td>0.0</td>\n",
       "      <td>...</td>\n",
       "      <td>0.0</td>\n",
       "      <td>0.0</td>\n",
       "      <td>0.0</td>\n",
       "      <td>0.0</td>\n",
       "      <td>0.0</td>\n",
       "      <td>0.0</td>\n",
       "      <td>0.0</td>\n",
       "      <td>0.0</td>\n",
       "      <td>0.0</td>\n",
       "      <td>0.0</td>\n",
       "    </tr>\n",
       "    <tr>\n",
       "      <th>1916</th>\n",
       "      <td>0.0</td>\n",
       "      <td>0.0</td>\n",
       "      <td>4.0</td>\n",
       "      <td>0.0</td>\n",
       "      <td>0.0</td>\n",
       "      <td>0.0</td>\n",
       "      <td>0.0</td>\n",
       "      <td>0.0</td>\n",
       "      <td>0.0</td>\n",
       "      <td>0.0</td>\n",
       "      <td>...</td>\n",
       "      <td>0.0</td>\n",
       "      <td>0.0</td>\n",
       "      <td>0.0</td>\n",
       "      <td>0.0</td>\n",
       "      <td>0.0</td>\n",
       "      <td>0.0</td>\n",
       "      <td>0.0</td>\n",
       "      <td>0.0</td>\n",
       "      <td>0.0</td>\n",
       "      <td>0.0</td>\n",
       "    </tr>\n",
       "    <tr>\n",
       "      <th>1917</th>\n",
       "      <td>0.0</td>\n",
       "      <td>0.0</td>\n",
       "      <td>0.0</td>\n",
       "      <td>0.0</td>\n",
       "      <td>0.0</td>\n",
       "      <td>4.0</td>\n",
       "      <td>0.0</td>\n",
       "      <td>0.0</td>\n",
       "      <td>0.0</td>\n",
       "      <td>4.5</td>\n",
       "      <td>...</td>\n",
       "      <td>0.0</td>\n",
       "      <td>0.0</td>\n",
       "      <td>0.0</td>\n",
       "      <td>0.0</td>\n",
       "      <td>0.0</td>\n",
       "      <td>0.0</td>\n",
       "      <td>4.0</td>\n",
       "      <td>0.0</td>\n",
       "      <td>0.0</td>\n",
       "      <td>0.0</td>\n",
       "    </tr>\n",
       "    <tr>\n",
       "      <th>1918</th>\n",
       "      <td>0.0</td>\n",
       "      <td>0.0</td>\n",
       "      <td>0.0</td>\n",
       "      <td>0.0</td>\n",
       "      <td>0.0</td>\n",
       "      <td>0.0</td>\n",
       "      <td>0.0</td>\n",
       "      <td>0.0</td>\n",
       "      <td>0.0</td>\n",
       "      <td>0.0</td>\n",
       "      <td>...</td>\n",
       "      <td>0.0</td>\n",
       "      <td>0.0</td>\n",
       "      <td>0.0</td>\n",
       "      <td>0.0</td>\n",
       "      <td>0.0</td>\n",
       "      <td>0.0</td>\n",
       "      <td>0.0</td>\n",
       "      <td>0.0</td>\n",
       "      <td>0.0</td>\n",
       "      <td>0.0</td>\n",
       "    </tr>\n",
       "  </tbody>\n",
       "</table>\n",
       "<p>1705 rows × 240350 columns</p>\n",
       "</div>"
      ],
      "text/plain": [
       "userId   1       3       4       5       6       7       8       9       \\\n",
       "movieId                                                                   \n",
       "1           0.0     0.0     0.0     0.0     0.0     0.0     0.0     0.0   \n",
       "2           0.0     0.0     0.0     0.0     0.0     0.0     0.0     0.0   \n",
       "3           0.0     0.0     0.0     0.0     0.0     0.0     0.0     0.0   \n",
       "4           0.0     0.0     0.0     0.0     0.0     0.0     0.0     0.0   \n",
       "5           0.0     0.0     0.0     0.0     0.0     0.0     0.0     0.0   \n",
       "...         ...     ...     ...     ...     ...     ...     ...     ...   \n",
       "1914        0.0     0.0     0.0     0.0     0.0     0.0     0.0     0.0   \n",
       "1915        0.0     0.0     0.0     0.0     0.0     0.0     0.0     0.0   \n",
       "1916        0.0     0.0     4.0     0.0     0.0     0.0     0.0     0.0   \n",
       "1917        0.0     0.0     0.0     0.0     0.0     4.0     0.0     0.0   \n",
       "1918        0.0     0.0     0.0     0.0     0.0     0.0     0.0     0.0   \n",
       "\n",
       "userId   10      11      ...  247744  247745  247746  247747  247748  247749  \\\n",
       "movieId                  ...                                                   \n",
       "1           0.0     0.0  ...     0.0     0.0     0.0     0.0     0.0     0.0   \n",
       "2           0.0     0.0  ...     0.0     0.0     0.0     0.0     0.0     0.0   \n",
       "3           0.0     1.5  ...     0.0     0.0     0.0     0.0     3.0     0.0   \n",
       "4           0.0     0.0  ...     0.0     0.0     0.0     0.0     0.0     0.0   \n",
       "5           0.0     0.0  ...     0.0     0.0     0.0     0.0     3.0     0.0   \n",
       "...         ...     ...  ...     ...     ...     ...     ...     ...     ...   \n",
       "1914        0.0     0.0  ...     0.0     0.0     0.0     0.0     0.0     0.0   \n",
       "1915        0.0     0.0  ...     0.0     0.0     0.0     0.0     0.0     0.0   \n",
       "1916        0.0     0.0  ...     0.0     0.0     0.0     0.0     0.0     0.0   \n",
       "1917        0.0     4.5  ...     0.0     0.0     0.0     0.0     0.0     0.0   \n",
       "1918        0.0     0.0  ...     0.0     0.0     0.0     0.0     0.0     0.0   \n",
       "\n",
       "userId   247750  247751  247752  247753  \n",
       "movieId                                  \n",
       "1           0.0     4.0     0.0     3.0  \n",
       "2           0.0     0.0     0.0     0.0  \n",
       "3           0.0     0.0     0.0     0.0  \n",
       "4           0.0     0.0     0.0     0.0  \n",
       "5           0.0     0.0     0.0     0.0  \n",
       "...         ...     ...     ...     ...  \n",
       "1914        0.0     0.0     0.0     0.0  \n",
       "1915        0.0     0.0     0.0     0.0  \n",
       "1916        0.0     0.0     0.0     0.0  \n",
       "1917        4.0     0.0     0.0     0.0  \n",
       "1918        0.0     0.0     0.0     0.0  \n",
       "\n",
       "[1705 rows x 240350 columns]"
      ]
     },
     "execution_count": 52,
     "metadata": {},
     "output_type": "execute_result"
    }
   ],
   "source": [
    "#specify model parameters\n",
    "model_knn = NearestNeighbors(metric='cosine',algorithm='brute')\n",
    "#fit model to the data set\n",
    "model_knn.fit(movie_wide)\n",
    "movie_wide"
   ]
  },
  {
   "cell_type": "code",
   "execution_count": 53,
   "id": "0664935c",
   "metadata": {
    "id": "0664935c"
   },
   "outputs": [],
   "source": [
    "#Gets the top 10 nearest neighbours got the movie\n",
    "def print_similar_movies(name) :\n",
    "    #get the list of user ratings for a specific userId\n",
    "    query_index=np.where(movies_genres['title'].to_numpy()==name)[0][0]\n",
    "#     print(query_index)\n",
    "    query_index_movie_ratings = movie_wide.iloc[query_index,:].values.reshape(1,-1)\n",
    "    #get the closest 10 movies and their distances from the movie specified\n",
    "    distances,indices = model_knn.kneighbors(query_index_movie_ratings,n_neighbors = 11) \n",
    "    #write a lopp that prints the similar movies for a specified movie.\n",
    "    for i in range(0,len(distances.flatten())):\n",
    "        #get the title of the random movie that was chosen\n",
    "        get_movie = movies.loc[movies['movieId']==query_index]['title']\n",
    "        #for the first movie in the list i.e closest print the title\n",
    "        if i==0:\n",
    "            print('Recommendations for {0}:\\n'.format(get_movie))\n",
    "        else :\n",
    "            #get the indiciees for the closest movies\n",
    "            indices_flat = indices.flatten()[i]\n",
    "            #get the title of the movie\n",
    "            get_movie = movies.loc[movies['movieId']==movie_wide.iloc[indices_flat,:].name]['title']\n",
    "            #print the movie\n",
    "            print('{0}: {1}, with distance of {2}:'.format(i,get_movie,distances.flatten()[i]))"
   ]
  },
  {
   "cell_type": "code",
   "execution_count": 54,
   "id": "b331f221",
   "metadata": {
    "id": "b331f221"
   },
   "outputs": [
    {
     "name": "stdout",
     "output_type": "stream",
     "text": [
      "Recommendations for Series([], Name: title, dtype: object):\n",
      "\n",
      "1: 257    Star Wars: Episode IV - A New Hope (1977)\n",
      "Name: title, dtype: object, with distance of 0.4533250097839031:\n",
      "2: 767    Independence Day (a.k.a. ID4) (1996)\n",
      "Name: title, dtype: object, with distance of 0.4538558575097593:\n",
      "3: 1242    Back to the Future (1985)\n",
      "Name: title, dtype: object, with distance of 0.48366108289543175:\n",
      "4: 640    Mission: Impossible (1996)\n",
      "Name: title, dtype: object, with distance of 0.48794872482279006:\n",
      "5: 352    Forrest Gump (1994)\n",
      "Name: title, dtype: object, with distance of 0.4922356953989341:\n",
      "6: 476    Jurassic Park (1993)\n",
      "Name: title, dtype: object, with distance of 0.49415268801940737:\n",
      "7: 1052    Willy Wonka & the Chocolate Factory (1971)\n",
      "Name: title, dtype: object, with distance of 0.5009391786959606:\n",
      "8: 1184    Star Wars: Episode VI - Return of the Jedi (1983)\n",
      "Name: title, dtype: object, with distance of 0.5018283714540219:\n",
      "9: 360    Lion King, The (1994)\n",
      "Name: title, dtype: object, with distance of 0.5092484348919823:\n",
      "10: 582    Aladdin (1992)\n",
      "Name: title, dtype: object, with distance of 0.5132163427923098:\n"
     ]
    }
   ],
   "source": [
    "print_similar_movies(\"Toy Story (1995)\")"
   ]
  },
  {
   "cell_type": "code",
   "execution_count": 55,
   "id": "35fdd021",
   "metadata": {
    "id": "35fdd021"
   },
   "outputs": [
    {
     "data": {
      "text/plain": [
       "(array([0], dtype=int64),)"
      ]
     },
     "execution_count": 55,
     "metadata": {},
     "output_type": "execute_result"
    }
   ],
   "source": [
    "np.where(movies_genres['title'].to_numpy()=='Toy Story (1995)')"
   ]
  },
  {
   "cell_type": "markdown",
   "id": "iHTyQ8Tp6-qB",
   "metadata": {
    "id": "iHTyQ8Tp6-qB"
   },
   "source": [
    "##Overall compilation of the above mentioned systems"
   ]
  },
  {
   "cell_type": "code",
   "execution_count": 56,
   "id": "96388420",
   "metadata": {
    "id": "96388420"
   },
   "outputs": [],
   "source": [
    "def recommend(name):\n",
    "    content=get_movies_content(name)\n",
    "    print(f'Based on the movies content, top movies are: {content}')\n",
    "    people=get_other_movies(name)\n",
    "    print(f\"Based on other peoples watching, top movies are:{people}\")\n",
    "    print(f\"Similar movies based on current movie\")   \n",
    "    print_similar_movies(name)\n",
    "    "
   ]
  },
  {
   "cell_type": "markdown",
   "id": "pnXbz0OA7GKK",
   "metadata": {
    "id": "pnXbz0OA7GKK"
   },
   "source": [
    "#User-Input"
   ]
  },
  {
   "cell_type": "code",
   "execution_count": 58,
   "id": "4f4723ea",
   "metadata": {
    "id": "4f4723ea",
    "outputId": "51790242-98ca-4b9f-fde4-607b1e4c608e"
   },
   "outputs": [
    {
     "name": "stdout",
     "output_type": "stream",
     "text": [
      "Do you want recommendation based on genre? y/nn\n",
      "Enter the movie of your choiceLion King, The (1994)\n",
      "Based on the movies content, top movies are:                                                   title  \\\n",
      "360                               Lion King, The (1994)   \n",
      "1631                                   Anastasia (1997)   \n",
      "1824                                       Mulan (1998)   \n",
      "8605  Wonderful World of the Brothers Grimm, The (1962)   \n",
      "47                                    Pocahontas (1995)   \n",
      "582                                      Aladdin (1992)   \n",
      "588              Snow White and the Seven Dwarfs (1937)   \n",
      "589                         Beauty and the Beast (1991)   \n",
      "624                      All Dogs Go to Heaven 2 (1996)   \n",
      "653                    James and the Giant Peach (1996)   \n",
      "697                             Oliver & Company (1988)   \n",
      "\n",
      "                                                 genres  \n",
      "360     Adventure|Animation|Children|Drama|Musical|IMAX  \n",
      "1631         Adventure|Animation|Children|Drama|Musical  \n",
      "1824  Adventure|Animation|Children|Comedy|Drama|Musi...  \n",
      "8605  Adventure|Animation|Children|Comedy|Drama|Fant...  \n",
      "47             Animation|Children|Drama|Musical|Romance  \n",
      "582         Adventure|Animation|Children|Comedy|Musical  \n",
      "588            Animation|Children|Drama|Fantasy|Musical  \n",
      "589     Animation|Children|Fantasy|Musical|Romance|IMAX  \n",
      "624   Adventure|Animation|Children|Fantasy|Musical|R...  \n",
      "653        Adventure|Animation|Children|Fantasy|Musical  \n",
      "697         Adventure|Animation|Children|Comedy|Musical  \n",
      "Based on other peoples watching, top movies are:                                   userId  Percentage_who_watched\n",
      "title                                                            \n",
      "Lion King, The (1994)               41546                   100.0\n",
      "Forrest Gump (1994)                 33629                    80.9\n",
      "Jurassic Park (1993)                32155                    77.4\n",
      "Aladdin (1992)                      29979                    72.2\n",
      "Pulp Fiction (1994)                 28896                    69.6\n",
      "Silence of the Lambs, The (1991)    28225                    67.9\n",
      "Beauty and the Beast (1991)         26886                    64.7\n",
      "Terminator 2: Judgment Day (1991)   26638                    64.1\n",
      "Shawshank Redemption, The (1994)    26581                    64.0\n",
      "Fugitive, The (1993)                26010                    62.6\n",
      "Similar movies based on current movie\n",
      "Recommendations for 356    I Love Trouble (1994)\n",
      "Name: title, dtype: object:\n",
      "\n",
      "1: 436    Dave (1993)\n",
      "Name: title, dtype: object, with distance of 0.669282457613452:\n",
      "2: 346    Client, The (1994)\n",
      "Name: title, dtype: object, with distance of 0.6813247245327806:\n",
      "3: 487    Man Without a Face, The (1993)\n",
      "Name: title, dtype: object, with distance of 0.6854635541598301:\n",
      "4: 357    It Could Happen to You (1994)\n",
      "Name: title, dtype: object, with distance of 0.6892450762374457:\n",
      "5: 374    Speechless (1994)\n",
      "Name: title, dtype: object, with distance of 0.6921223788196229:\n",
      "6: 411    Another Stakeout (1993)\n",
      "Name: title, dtype: object, with distance of 0.6945389679439156:\n",
      "7: 510    Ref, The (1994)\n",
      "Name: title, dtype: object, with distance of 0.6980782726130113:\n",
      "8: 278    Nobody's Fool (1994)\n",
      "Name: title, dtype: object, with distance of 0.6985056739885469:\n",
      "9: 470    In the Line of Fire (1993)\n",
      "Name: title, dtype: object, with distance of 0.6997205569586781:\n",
      "10: 234    Forget Paris (1995)\n",
      "Name: title, dtype: object, with distance of 0.7002168186742064:\n"
     ]
    }
   ],
   "source": [
    "User_choice=input(\"Do you want recommendation based on genre? y/n\")\n",
    "if(User_choice=='y'):\n",
    "    print(f\"The genres available are:{new_list}\")\n",
    "    genre_choice=input(\"Choose your genre\")    \n",
    "    moc=best_movies_by_genre(str(genre_choice),5)\n",
    "    print(moc)\n",
    "else:\n",
    "    user_input_movie=input(\"Enter the movie of your choice\")\n",
    "    recommend(user_input_movie)\n",
    "    "
   ]
  },
  {
   "cell_type": "code",
   "execution_count": null,
   "id": "61dacaa1",
   "metadata": {
    "id": "61dacaa1"
   },
   "outputs": [],
   "source": [
    "# x = input()\n",
    "# best_movies_by_genre(x,5)"
   ]
  },
  {
   "cell_type": "code",
   "execution_count": null,
   "id": "76ded09c",
   "metadata": {},
   "outputs": [],
   "source": []
  },
  {
   "cell_type": "code",
   "execution_count": null,
   "id": "f7384794",
   "metadata": {},
   "outputs": [],
   "source": []
  }
 ],
 "metadata": {
  "colab": {
   "provenance": []
  },
  "kernelspec": {
   "display_name": "Python 3 (ipykernel)",
   "language": "python",
   "name": "python3"
  },
  "language_info": {
   "codemirror_mode": {
    "name": "ipython",
    "version": 3
   },
   "file_extension": ".py",
   "mimetype": "text/x-python",
   "name": "python",
   "nbconvert_exporter": "python",
   "pygments_lexer": "ipython3",
   "version": "3.9.13"
  }
 },
 "nbformat": 4,
 "nbformat_minor": 5
}
